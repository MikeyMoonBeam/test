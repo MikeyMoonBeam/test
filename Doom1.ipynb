{
 "cells": [
  {
   "cell_type": "markdown",
   "metadata": {},
   "source": [
    "# Is 1 in 5 Italians really involved in the gig economy?\n",
    "\n",
    "## A question from the floor...\n",
    "\n",
    "At a recent presentation in rome I presented the results form FEPS Digital Footprint study. Part of this study highlight the prevalence of labour in the gig economy in 7 European Countries, the UK, Netherlands, Germany, Sweden, Austria, Switzerland and Italy. One of the responses I got was that the number of Italians that had engaged in paid work in the gig economy was far too high to be credible.  The gross number was roughly 21%, and one of the attendees stood up and asked me “Is this real?”. I recovered quite well, but in hindsight I didn’t defend our research as eloquently as I should have been. No research is perfect, and there are several issues that could bias the data, and I will go over them later. First let me go over the claims though.  The analysis of the Italian data can be found below:\n"
   ]
  },
  {
   "cell_type": "code",
   "execution_count": 17,
   "metadata": {},
   "outputs": [],
   "source": [
    "library(tidyverse)\n",
    "library(ggplot2)\n",
    "Italy <- read.csv(url(\"https://docs.google.com/spreadsheets/d/e/2PACX-1vS4rEItbjyfB5EIECdy4ZxAhvnk3RCKk_C-yPqRIfkU6MZuGK3n1uem4l_3SpaVAPds_D9N-_lBHlxA/pub?gid=1641105757&single=true&output=csv\"))\n",
    "Austria <- read.csv(url(\"https://docs.google.com/spreadsheets/d/e/2PACX-1vQeXHa0y7TXgGj51MZEHQ06EGsQqlMMvibxIjDgBGBErR7K78IdUiI0QyN74-u-ZK-xiKPPK44QaXIs/pub?gid=1199263111&single=true&output=csv\"))\n",
    "Germany <- read.csv(url(\"https://docs.google.com/spreadsheets/d/e/2PACX-1vTf6DA5wtunEJRUyZu9JW-IAEfvrwYdcEb26RWsA8yvi92-AbLPSno7f8V9oGCK2UlSm3dxy2TY8YKI/pub?gid=45076544&single=true&output=csv\"))\n",
    "Netherlands <- read.csv(url(\"https://docs.google.com/spreadsheets/d/e/2PACX-1vSG4KhoDwlRHXYTBkQxeWrcyfNFACuAlUO2yPMzt1wltbq61OE4sTSUnNpWq4gtXPu66J0Ck6ZxGWwK/pub?gid=64414547&single=true&output=csv\"))\n",
    "Sweden <- read.csv(url(\"https://docs.google.com/spreadsheets/d/e/2PACX-1vRTL6pnjVYMLfQLPeFCt33kTX1UQbE8D0eqgruEOWKwueraV4E5wyCVN5oB_5ei8b3KQjKY3mFyjydx/pub?gid=1665871730&single=true&output=csv\"))\n",
    "Switzerland <- read.csv(url(\"https://docs.google.com/spreadsheets/d/e/2PACX-1vQdQo2JJn91my4njXzXZqIMwARC0hzQRVxOFKGHw8Qj3x8wtudrmJ2DXVYjeTvbCwtt2D104U5kINqx/pub?gid=1862985627&single=true&output=csv\"))\n",
    "UK <- read.csv(url(\"https://docs.google.com/spreadsheets/d/e/2PACX-1vT3Cq-uNkzBWv9xR02dsmYgtnxC4suwyqi7FCRtxevjjZPZqlPvIiW4yEMZ2AI2wjyOpFfOP3yv1ckm/pub?gid=1046723974&single=true&output=csv\"))\n",
    "Seeking <- function(DataSet){\n",
    "    SeekingData <- eval(parse(text=DataSet)) %>%\n",
    "    select(cq03_7,cq03_8,cq03_9) %>%\n",
    "    mutate(Seeking = pmin(cq03_7,cq03_8,cq03_9)) %>%\n",
    "    select(Seeking) %>%\n",
    "    mutate(Seeking = ifelse(Seeking > 8,8, Seeking))\n",
    "    Seeker <- SeekingData$Seeking\n",
    "    SeekingSums <- c(sum(Seeker == 8),sum(Seeker < 8),sum(Seeker < 7),sum(Seeker <5),sum(Seeker <4),sum(Seeker <2))\n",
    "    SeekingSums <- SeekingSums/length(Seeker)\n",
    "    SeekingSums <- round(SeekingSums,3)\n",
    "    SeekingSums <- SeekingSums*100\n",
    "    #SeekingSums <- rbind(c(\"Not at all\", \"At least Yearly\",\"At least 6-monthly\",\"At least Monthly\",\n",
    "    #                       \"At least Weekly\",\"At least Daily\"),\n",
    "    #                     SeekingSums)\n",
    "    return(SeekingSums)\n",
    "}\n",
    "\n",
    "\n",
    "Finding <- function(DataSet){\n",
    "    SeekingData <- eval(parse(text=DataSet)) %>%\n",
    "    select(cq04_1,cq04_2,cq04_3) %>%\n",
    "    replace_na(list(cq04_1=9,cq04_2=9,cq04_3=9)) %>%\n",
    "    mutate(Seeking = pmin(cq04_1,cq04_2,cq04_3)) %>%\n",
    "    select(Seeking) %>%\n",
    "    mutate(Seeking = ifelse(Seeking > 8,8, Seeking))\n",
    "    Seeker <- SeekingData$Seeking\n",
    "    DataLength <- eval(parse(text=DataSet))$serialno\n",
    "    SeekingSums <- c(sum(Seeker == 8),sum(Seeker < 8),sum(Seeker < 7),sum(Seeker <5),sum(Seeker <4),sum(Seeker <2))\n",
    "    SeekingSums[1] <- length(DataLength)-SeekingSums[2]\n",
    "    SeekingSums <- SeekingSums/length(DataLength)\n",
    "    SeekingSums <- round(SeekingSums,3)\n",
    "    SeekingSums <- SeekingSums*100\n",
    "    #SeekingSums <- rbind(c(\"Not at all\", \"At least Yearly\",\"At least 6-monthly\",\"At least Monthly\",\n",
    "    #                       \"At least Weekly\",\"At least Daily\"),\n",
    "    #                     SeekingSums)\n",
    "    return(SeekingSums)\n",
    "}\n",
    "\n",
    "Income <- function(DataSet){\n",
    "    SeekingData <- eval(parse(text=DataSet)) %>%\n",
    "    select(cq06) %>%\n",
    "    replace_na(list(cq06 = 0))%>%\n",
    "    mutate(cq06 = ifelse(cq06>6,0,cq06))\n",
    "    DataLength <- eval(parse(text=DataSet))$serialno\n",
    "    Seeker <- SeekingData$cq06\n",
    "    SeekingSums <-c(sum(Seeker == 0),sum(Seeker >=1),sum(Seeker >=2),sum(Seeker >=3),sum(Seeker >=4),\n",
    "                    sum(Seeker >=5),sum(Seeker >=6))\n",
    "    SeekingSums <- SeekingSums/length(DataLength)\n",
    "    SeekingSums <- round(SeekingSums,3)\n",
    "    SeekingSums <- SeekingSums*100\n",
    "    return(SeekingSums)\n",
    "    \n",
    "    \n",
    "}\n",
    "FrequencyList <- c(\" 1 Not at all\", \"2 At least Yearly\",\"3 At least 6-monthly\",\"4 At least Monthly\",\n",
    "                           \"5 At least Weekly\",\"6 At least Daily\")\n",
    "\n",
    "IncomeList <- c(\"1 No Income\", \"2 Any Income\", \"3 At least 10%\",\"4 At least 25%\",\"5 At least 50%\",\"6 At least 75%\",\n",
    "               \"7 All income\")\n",
    "\n",
    "SeekingTable<-data.frame(rbind(Seeking(\"Italy\"),Seeking(\"Switzerland\"),Seeking(\"Austria\"),Seeking(\"Germany\"),\n",
    "                               Seeking(\"Netherlands\"), Seeking(\"Sweden\"), Seeking(\"UK\")))\n",
    "colnames(SeekingTable)<- FrequencyList\n",
    "\n",
    "rownames(SeekingTable)<-c(\"Italy\",\"Switzerland\",\"Austria\",\"Germany\",\"Netherlands\",\"Sweden\",\"UK\")\n",
    "\n"
   ]
  },
  {
   "cell_type": "markdown",
   "metadata": {},
   "source": [
    "## A picture of Italy.\n",
    "\n",
    "Italy is a nice place with 60-odd million people, but our snapshot of Italy is made up of a weighted sample of 2200 people.  We hope that this sample is representative of the Italian population in general, and will get to that in a second.\n",
    "\n",
    "For now however, let’s focus on the questions and the answers that these 2200 people gave.\n",
    "\n",
    "### Looking for work:\n",
    "\n",
    "The first question is related to whether or not a person LOOKS for gig work. This is done by a set of questions. These questions are labelled cq03_7-9 and ask how often someone...\n",
    "\n",
    "* Look for work you can carry out from your own home on a website such as Upwork, Freelancer, Addlance, Elance, Odesk or PeoplePerHour\n",
    "* Look for work you can carry out for different customers somewhere outside your home on a website such as Taskrabbit, Myhammer, Semplifiko, Helpling or SOSartigiani\n",
    "* Offer to drive someone to a location for a fee using an app or website such as Uber or Blablacar\n",
    "\n",
    "Since we are, at the moment only interested if somebody does ANY of these things, we look for the one type of work (if any) they look for the most often, and use that as our measure of how often they look for gig work online. \n",
    "\n",
    "Here are the percentages of people in our dataset looking for work using one of the three methods:\n",
    "\n"
   ]
  },
  {
   "cell_type": "code",
   "execution_count": 18,
   "metadata": {},
   "outputs": [
    {
     "name": "stdout",
     "output_type": "stream",
     "text": [
      "[1] \"People Seeking Crowdwork\"\n"
     ]
    },
    {
     "data": {
      "text/html": [
       "<table>\n",
       "<thead><tr><th></th><th scope=col> 1 Not at all</th><th scope=col>2 At least Yearly</th><th scope=col>3 At least 6-monthly</th><th scope=col>4 At least Monthly</th><th scope=col>5 At least Weekly</th><th scope=col>6 At least Daily</th></tr></thead>\n",
       "<tbody>\n",
       "\t<tr><th scope=row>Italy</th><td>71.1</td><td>28.9</td><td>26.1</td><td>19.6</td><td>14.6</td><td>5.1 </td></tr>\n",
       "</tbody>\n",
       "</table>\n"
      ],
      "text/latex": [
       "\\begin{tabular}{r|llllll}\n",
       "  &  1 Not at all & 2 At least Yearly & 3 At least 6-monthly & 4 At least Monthly & 5 At least Weekly & 6 At least Daily\\\\\n",
       "\\hline\n",
       "\tItaly & 71.1 & 28.9 & 26.1 & 19.6 & 14.6 & 5.1 \\\\\n",
       "\\end{tabular}\n"
      ],
      "text/markdown": [
       "\n",
       "| <!--/--> |  1 Not at all | 2 At least Yearly | 3 At least 6-monthly | 4 At least Monthly | 5 At least Weekly | 6 At least Daily | \n",
       "|---|\n",
       "| Italy | 71.1 | 28.9 | 26.1 | 19.6 | 14.6 | 5.1  | \n",
       "\n",
       "\n"
      ],
      "text/plain": [
       "       1 Not at all 2 At least Yearly 3 At least 6-monthly 4 At least Monthly\n",
       "Italy 71.1          28.9              26.1                 19.6              \n",
       "      5 At least Weekly 6 At least Daily\n",
       "Italy 14.6              5.1             "
      ]
     },
     "metadata": {},
     "output_type": "display_data"
    }
   ],
   "source": [
    "print(\"People Seeking Crowdwork\")\n",
    "SeekingTable[1,]\n"
   ]
  },
  {
   "cell_type": "markdown",
   "metadata": {},
   "source": [
    "This is quite a large number! It suggests that almost a third of Italians look for this sort of work at least once a year. In fact, the larger number of 6-monthly and Monthly job searchers seem very large.\n",
    "\n",
    "### Now that we found work, what are we gonna do?\n",
    "\n",
    "The actual number of people who FIND work is somewhat smaller.  The amount of work that they find can be defined in two ways: The frequency of work (how often they engage in paid work), and the proportion of their total income that they get from this work. \n",
    "\n",
    "We get this information as well from the spreadsheet.\n",
    "#### Frequency\n",
    "\n",
    "The questions asked in cq04 give us the frequency. After recoding a bit to take into account missing data we end up with the following frequencies:\n",
    "\n"
   ]
  },
  {
   "cell_type": "code",
   "execution_count": 19,
   "metadata": {},
   "outputs": [
    {
     "name": "stdout",
     "output_type": "stream",
     "text": [
      "[1] \"Percentages of Italians finding work in our sample\"\n"
     ]
    },
    {
     "data": {
      "text/html": [
       "<table>\n",
       "<tbody>\n",
       "\t<tr><th scope=row>FrequencyList</th><td> 1 Not at all       </td><td>2 At least Yearly   </td><td>3 At least 6-monthly</td><td>4 At least Monthly  </td><td>5 At least Weekly   </td><td>6 At least Daily    </td></tr>\n",
       "\t<tr><th scope=row></th><td>78.4                </td><td>21.6                </td><td>19.2                </td><td>13.6                </td><td>10.3                </td><td>3                   </td></tr>\n",
       "</tbody>\n",
       "</table>\n"
      ],
      "text/latex": [
       "\\begin{tabular}{r|llllll}\n",
       "\tFrequencyList &  1 Not at all        & 2 At least Yearly    & 3 At least 6-monthly & 4 At least Monthly   & 5 At least Weekly    & 6 At least Daily    \\\\\n",
       "\t & 78.4                 & 21.6                 & 19.2                 & 13.6                 & 10.3                 & 3                   \\\\\n",
       "\\end{tabular}\n"
      ],
      "text/markdown": [
       "\n",
       "| FrequencyList |  1 Not at all        | 2 At least Yearly    | 3 At least 6-monthly | 4 At least Monthly   | 5 At least Weekly    | 6 At least Daily     | \n",
       "|  | 78.4                 | 21.6                 | 19.2                 | 13.6                 | 10.3                 | 3                    | \n",
       "\n",
       "\n"
      ],
      "text/plain": [
       "              [,1]          [,2]              [,3]                \n",
       "FrequencyList  1 Not at all 2 At least Yearly 3 At least 6-monthly\n",
       "              78.4          21.6              19.2                \n",
       "              [,4]               [,5]              [,6]            \n",
       "FrequencyList 4 At least Monthly 5 At least Weekly 6 At least Daily\n",
       "              13.6               10.3              3               "
      ]
     },
     "metadata": {},
     "output_type": "display_data"
    }
   ],
   "source": [
    "print(\"Percentages of Italians finding work in our sample\")\n",
    "rbind(FrequencyList,Finding(DataSet = \"Italy\"))"
   ]
  },
  {
   "cell_type": "markdown",
   "metadata": {},
   "source": [
    "This is quite similar, roughly 1 in 5 engage in this sort of work at least once every 6 months, and 10% on a weekly basis. A small minority of 3% do it every day!\n",
    "\n",
    "#### Income\n",
    "\n",
    "The question asked in cq06 is regarding the proportion of total income that italians reported they derived from income. We see that 82% report no income at all (This includes people who didn’t know, or refused to answer). For roughly 20 percent is at least under 10 percent, but we see that roughly 5 percent of the italian sample state  that rely on this sort of work for at least 50 percent of their income. \n",
    "\n",
    "\n"
   ]
  },
  {
   "cell_type": "code",
   "execution_count": 20,
   "metadata": {},
   "outputs": [
    {
     "name": "stdout",
     "output_type": "stream",
     "text": [
      "[1] \"Reported proportion of Income from crowdwork\"\n"
     ]
    },
    {
     "data": {
      "text/html": [
       "<table>\n",
       "<tbody>\n",
       "\t<tr><th scope=row>IncomeList</th><td>1 No Income   </td><td>2 Any Income  </td><td>3 At least 10%</td><td>4 At least 25%</td><td>5 At least 50%</td><td>6 At least 75%</td><td>7 All income  </td></tr>\n",
       "\t<tr><th scope=row></th><td>82.4          </td><td>17.6          </td><td>11.2          </td><td>7.8           </td><td>5.5           </td><td>3.4           </td><td>1.9           </td></tr>\n",
       "</tbody>\n",
       "</table>\n"
      ],
      "text/latex": [
       "\\begin{tabular}{r|lllllll}\n",
       "\tIncomeList & 1 No Income      & 2 Any Income     & 3 At least 10\\% & 4 At least 25\\% & 5 At least 50\\% & 6 At least 75\\% & 7 All income    \\\\\n",
       "\t & 82.4           & 17.6           & 11.2           & 7.8            & 5.5            & 3.4            & 1.9           \\\\\n",
       "\\end{tabular}\n"
      ],
      "text/markdown": [
       "\n",
       "| IncomeList | 1 No Income    | 2 Any Income   | 3 At least 10% | 4 At least 25% | 5 At least 50% | 6 At least 75% | 7 All income   | \n",
       "|  | 82.4           | 17.6           | 11.2           | 7.8            | 5.5            | 3.4            | 1.9            | \n",
       "\n",
       "\n"
      ],
      "text/plain": [
       "           [,1]        [,2]         [,3]           [,4]          \n",
       "IncomeList 1 No Income 2 Any Income 3 At least 10% 4 At least 25%\n",
       "           82.4        17.6         11.2           7.8           \n",
       "           [,5]           [,6]           [,7]        \n",
       "IncomeList 5 At least 50% 6 At least 75% 7 All income\n",
       "           5.5            3.4            1.9         "
      ]
     },
     "metadata": {},
     "output_type": "display_data"
    }
   ],
   "source": [
    "print(\"Reported proportion of Income from crowdwork\")\n",
    "rbind(IncomeList,Income(\"Italy\"))"
   ]
  },
  {
   "cell_type": "markdown",
   "metadata": {},
   "source": [
    "## So what is wrong with this picture?\n",
    "\n",
    "At first glance, nothing. It is a survey performed by a well-reputed provider, on whose work a lot of decisions are made (in Italy as well). However, the numbers seem very large (when compared to a lot of other estimates). Because of this, it is a good idea to investigate competing explanations for this result.  Some of these possible explanations are given below: \n",
    "\n",
    "1. Lost in translation\n",
    "1. Sampling Bias (Online vs Offline)\n",
    "1. Errors in the Survey\n",
    "1. Deception\n",
    "1. Other...\n",
    "\n",
    "### Lost in translation?\n",
    "\n",
    "Is there any specific language issues that may have cropped up? Perhaps, after all making sure that the contents of a survey mean the same things to respondents across 7 countries and 6 languages is quite a daunting task. Luckily we had the aid of both our suvey-provider as well as our local partner in ensuring that the content was meaningful for the particular country. However, if we are to use Switzerland (Because it uses German and **ITALIAN**) as an example, we can then investigate to see:\n",
    "\n",
    "\n",
    "\n"
   ]
  },
  {
   "cell_type": "code",
   "execution_count": 21,
   "metadata": {},
   "outputs": [
    {
     "name": "stdout",
     "output_type": "stream",
     "text": [
      "[1] \"Seeking Crowdwork\"\n"
     ]
    },
    {
     "data": {
      "text/html": [
       "<table>\n",
       "<tbody>\n",
       "\t<tr><th scope=row>Frequency</th><td> 1 Not at all       </td><td>2 At least Yearly   </td><td>3 At least 6-monthly</td><td>4 At least Monthly  </td><td>5 At least Weekly   </td><td>6 At least Daily    </td></tr>\n",
       "\t<tr><th scope=row>Italy</th><td>71.1                </td><td>28.9                </td><td>26.1                </td><td>19.6                </td><td>14.6                </td><td>5.1                 </td></tr>\n",
       "\t<tr><th scope=row>Switzerland</th><td>72.9                </td><td>27.1                </td><td>23.7                </td><td>16.3                </td><td>10.9                </td><td>3                   </td></tr>\n",
       "</tbody>\n",
       "</table>\n"
      ],
      "text/latex": [
       "\\begin{tabular}{r|llllll}\n",
       "\tFrequency &  1 Not at all        & 2 At least Yearly    & 3 At least 6-monthly & 4 At least Monthly   & 5 At least Weekly    & 6 At least Daily    \\\\\n",
       "\tItaly & 71.1                 & 28.9                 & 26.1                 & 19.6                 & 14.6                 & 5.1                 \\\\\n",
       "\tSwitzerland & 72.9                 & 27.1                 & 23.7                 & 16.3                 & 10.9                 & 3                   \\\\\n",
       "\\end{tabular}\n"
      ],
      "text/markdown": [
       "\n",
       "| Frequency |  1 Not at all        | 2 At least Yearly    | 3 At least 6-monthly | 4 At least Monthly   | 5 At least Weekly    | 6 At least Daily     | \n",
       "| Italy | 71.1                 | 28.9                 | 26.1                 | 19.6                 | 14.6                 | 5.1                  | \n",
       "| Switzerland | 72.9                 | 27.1                 | 23.7                 | 16.3                 | 10.9                 | 3                    | \n",
       "\n",
       "\n"
      ],
      "text/plain": [
       "            [,1]          [,2]              [,3]                \n",
       "Frequency    1 Not at all 2 At least Yearly 3 At least 6-monthly\n",
       "Italy       71.1          28.9              26.1                \n",
       "Switzerland 72.9          27.1              23.7                \n",
       "            [,4]               [,5]              [,6]            \n",
       "Frequency   4 At least Monthly 5 At least Weekly 6 At least Daily\n",
       "Italy       19.6               14.6              5.1             \n",
       "Switzerland 16.3               10.9              3               "
      ]
     },
     "metadata": {},
     "output_type": "display_data"
    },
    {
     "name": "stdout",
     "output_type": "stream",
     "text": [
      "[1] \"Finding Crowdwork\"\n"
     ]
    },
    {
     "data": {
      "text/html": [
       "<table>\n",
       "<tbody>\n",
       "\t<tr><th scope=row>FrequencyList</th><td> 1 Not at all       </td><td>2 At least Yearly   </td><td>3 At least 6-monthly</td><td>4 At least Monthly  </td><td>5 At least Weekly   </td><td>6 At least Daily    </td></tr>\n",
       "\t<tr><th scope=row></th><td>78.4                </td><td>21.6                </td><td>19.2                </td><td>13.6                </td><td>10.3                </td><td>3                   </td></tr>\n",
       "\t<tr><th scope=row></th><td>83.7                </td><td>16.3                </td><td>14.4                </td><td>9                   </td><td>6.4                 </td><td>1.8                 </td></tr>\n",
       "</tbody>\n",
       "</table>\n"
      ],
      "text/latex": [
       "\\begin{tabular}{r|llllll}\n",
       "\tFrequencyList &  1 Not at all        & 2 At least Yearly    & 3 At least 6-monthly & 4 At least Monthly   & 5 At least Weekly    & 6 At least Daily    \\\\\n",
       "\t & 78.4                 & 21.6                 & 19.2                 & 13.6                 & 10.3                 & 3                   \\\\\n",
       "\t & 83.7                 & 16.3                 & 14.4                 & 9                    & 6.4                  & 1.8                 \\\\\n",
       "\\end{tabular}\n"
      ],
      "text/markdown": [
       "\n",
       "| FrequencyList |  1 Not at all        | 2 At least Yearly    | 3 At least 6-monthly | 4 At least Monthly   | 5 At least Weekly    | 6 At least Daily     | \n",
       "|  | 78.4                 | 21.6                 | 19.2                 | 13.6                 | 10.3                 | 3                    | \n",
       "|  | 83.7                 | 16.3                 | 14.4                 | 9                    | 6.4                  | 1.8                  | \n",
       "\n",
       "\n"
      ],
      "text/plain": [
       "              [,1]          [,2]              [,3]                \n",
       "FrequencyList  1 Not at all 2 At least Yearly 3 At least 6-monthly\n",
       "              78.4          21.6              19.2                \n",
       "              83.7          16.3              14.4                \n",
       "              [,4]               [,5]              [,6]            \n",
       "FrequencyList 4 At least Monthly 5 At least Weekly 6 At least Daily\n",
       "              13.6               10.3              3               \n",
       "              9                  6.4               1.8             "
      ]
     },
     "metadata": {},
     "output_type": "display_data"
    },
    {
     "name": "stdout",
     "output_type": "stream",
     "text": [
      "[1] \"Income from Crowdwork\"\n"
     ]
    },
    {
     "data": {
      "text/html": [
       "<table>\n",
       "<tbody>\n",
       "\t<tr><th scope=row>IncomeList</th><td>1 No Income   </td><td>2 Any Income  </td><td>3 At least 10%</td><td>4 At least 25%</td><td>5 At least 50%</td><td>6 At least 75%</td><td>7 All income  </td></tr>\n",
       "\t<tr><th scope=row></th><td>82.4          </td><td>17.6          </td><td>11.2          </td><td>7.8           </td><td>5.5           </td><td>3.4           </td><td>1.9           </td></tr>\n",
       "\t<tr><th scope=row></th><td>86            </td><td>14            </td><td>7.2           </td><td>4.7           </td><td>3.4           </td><td>2.5           </td><td>1.6           </td></tr>\n",
       "</tbody>\n",
       "</table>\n"
      ],
      "text/latex": [
       "\\begin{tabular}{r|lllllll}\n",
       "\tIncomeList & 1 No Income      & 2 Any Income     & 3 At least 10\\% & 4 At least 25\\% & 5 At least 50\\% & 6 At least 75\\% & 7 All income    \\\\\n",
       "\t & 82.4           & 17.6           & 11.2           & 7.8            & 5.5            & 3.4            & 1.9           \\\\\n",
       "\t & 86             & 14             & 7.2            & 4.7            & 3.4            & 2.5            & 1.6           \\\\\n",
       "\\end{tabular}\n"
      ],
      "text/markdown": [
       "\n",
       "| IncomeList | 1 No Income    | 2 Any Income   | 3 At least 10% | 4 At least 25% | 5 At least 50% | 6 At least 75% | 7 All income   | \n",
       "|  | 82.4           | 17.6           | 11.2           | 7.8            | 5.5            | 3.4            | 1.9            | \n",
       "|  | 86             | 14             | 7.2            | 4.7            | 3.4            | 2.5            | 1.6            | \n",
       "\n",
       "\n"
      ],
      "text/plain": [
       "           [,1]        [,2]         [,3]           [,4]          \n",
       "IncomeList 1 No Income 2 Any Income 3 At least 10% 4 At least 25%\n",
       "           82.4        17.6         11.2           7.8           \n",
       "           86          14           7.2            4.7           \n",
       "           [,5]           [,6]           [,7]        \n",
       "IncomeList 5 At least 50% 6 At least 75% 7 All income\n",
       "           5.5            3.4            1.9         \n",
       "           3.4            2.5            1.6         "
      ]
     },
     "metadata": {},
     "output_type": "display_data"
    }
   ],
   "source": [
    "CompareITCHSeek<-rbind(FrequencyList,Seeking(\"Italy\"),Seeking(\"Switzerland\"))\n",
    "rownames(CompareITCHSeek)<-c(\"Frequency\",\"Italy\",\"Switzerland\")\n",
    "print(\"Seeking Crowdwork\")\n",
    "CompareITCHSeek\n",
    "\n",
    "CompareITCHFind<-rbind(FrequencyList,Finding(\"Italy\"),Finding(\"Switzerland\"))\n",
    "rownames(CompareITCHSeek)<-c(\"Frequency\",\"Italy\",\"Switzerland\")\n",
    "print(\"Finding Crowdwork\")\n",
    "CompareITCHFind\n",
    "\n",
    "CompareITCHInc<-rbind(IncomeList,Income(\"Italy\"),Income(\"Switzerland\"))\n",
    "rownames(CompareITCHFind)<-c(\"Frequency\",\"Italy\",\"Switzerland\")\n",
    "print(\"Income from Crowdwork\")\n",
    "CompareITCHInc\n"
   ]
  },
  {
   "cell_type": "markdown",
   "metadata": {},
   "source": [
    "The data is, in fact quite similar between the two countries when looking at seeking crowdwork.\n",
    "\n",
    "In terms of how often they actually find work, however, Italians are somewhat more likely to find such work more often than the Swiss we surveyed. However, it is interesting to note that they were still not wildly different from each other. \n",
    "\n",
    "In terms of proportions of earings, we again see that the Italian sample is somewhat more likely to earn a larger proportion of their income from platform economy labour more than their swiss  counterparts.\n",
    "Again, however, it is important to note that these are still in the same sort of ballpark, though.\n",
    "\n",
    "#### What about the German Speakers?"
   ]
  }
 ],
 "metadata": {
  "kernelspec": {
   "display_name": "R",
   "language": "R",
   "name": "ir"
  },
  "language_info": {
   "codemirror_mode": "r",
   "file_extension": ".r",
   "mimetype": "text/x-r-source",
   "name": "R",
   "pygments_lexer": "r",
   "version": "3.4.4"
  }
 },
 "nbformat": 4,
 "nbformat_minor": 2
}
