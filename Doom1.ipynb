{
 "cells": [
  {
   "cell_type": "markdown",
   "metadata": {},
   "source": [
    "R Code pulled from https://www.statmethods.net/advgraphs/ggplot2.html"
   ]
  },
  {
   "cell_type": "code",
   "execution_count": 66,
   "metadata": {},
   "outputs": [],
   "source": [
    "library(tidyverse)\n",
    "Italy <- read.csv(url(\"https://docs.google.com/spreadsheets/d/e/2PACX-1vS4rEItbjyfB5EIECdy4ZxAhvnk3RCKk_C-yPqRIfkU6MZuGK3n1uem4l_3SpaVAPds_D9N-_lBHlxA/pub?gid=1641105757&single=true&output=csv\"))\n",
    "Austria <- read.csv(url(\"https://docs.google.com/spreadsheets/d/e/2PACX-1vQeXHa0y7TXgGj51MZEHQ06EGsQqlMMvibxIjDgBGBErR7K78IdUiI0QyN74-u-ZK-xiKPPK44QaXIs/pub?gid=1199263111&single=true&output=csv\"))\n",
    "Germany <- read.csv(url(\"https://docs.google.com/spreadsheets/d/e/2PACX-1vTf6DA5wtunEJRUyZu9JW-IAEfvrwYdcEb26RWsA8yvi92-AbLPSno7f8V9oGCK2UlSm3dxy2TY8YKI/pub?gid=45076544&single=true&output=csv\"))\n",
    "Netherlands <- read.csv(url(\"https://docs.google.com/spreadsheets/d/e/2PACX-1vSG4KhoDwlRHXYTBkQxeWrcyfNFACuAlUO2yPMzt1wltbq61OE4sTSUnNpWq4gtXPu66J0Ck6ZxGWwK/pub?gid=64414547&single=true&output=csv\"))\n",
    "Sweden <- read.csv(url(\"https://docs.google.com/spreadsheets/d/e/2PACX-1vRTL6pnjVYMLfQLPeFCt33kTX1UQbE8D0eqgruEOWKwueraV4E5wyCVN5oB_5ei8b3KQjKY3mFyjydx/pub?gid=1665871730&single=true&output=csv\"))\n",
    "Switzerland <- read.csv(url(\"https://docs.google.com/spreadsheets/d/e/2PACX-1vQdQo2JJn91my4njXzXZqIMwARC0hzQRVxOFKGHw8Qj3x8wtudrmJ2DXVYjeTvbCwtt2D104U5kINqx/pub?gid=1862985627&single=true&output=csv\"))\n",
    "UK <- read.csv(url(\"https://docs.google.com/spreadsheets/d/e/2PACX-1vT3Cq-uNkzBWv9xR02dsmYgtnxC4suwyqi7FCRtxevjjZPZqlPvIiW4yEMZ2AI2wjyOpFfOP3yv1ckm/pub?gid=1046723974&single=true&output=csv\"))\n",
    "Seeking <- function(DataSet){\n",
    "    SeekingData <- eval(parse(text=DataSet)) %>%\n",
    "    select(cq03_7,cq03_8,cq03_9) %>%\n",
    "    mutate(Seeking = pmin(cq03_7,cq03_8,cq03_9)) %>%\n",
    "    select(Seeking) %>%\n",
    "    mutate(Seeking = ifelse(Seeking > 8,8, Seeking))\n",
    "    Seeker <- SeekingData$Seeking\n",
    "    SeekingSums <- c(sum(Seeker == 8),sum(Seeker < 8),sum(Seeker < 7),sum(Seeker <5),sum(Seeker <4),sum(Seeker <2))\n",
    "    SeekingSums <- SeekingSums/length(Seeker)\n",
    "    SeekingSums <- round(SeekingSums,3)\n",
    "    SeekingSums <- SeekingSums*100\n",
    "    #SeekingSums <- rbind(c(\"Not at all\", \"At least Yearly\",\"At least 6-monthly\",\"At least Monthly\",\n",
    "    #                       \"At least Weekly\",\"At least Daily\"),\n",
    "    #                     SeekingSums)\n",
    "    return(SeekingSums)\n",
    "}\n",
    "\n",
    "\n",
    "Finding <- function(DataSet){\n",
    "    SeekingData <- eval(parse(text=DataSet)) %>%\n",
    "    select(cq04_1,cq04_2,cq04_3) %>%\n",
    "    replace_na(list(cq04_1=9,cq04_2=9,cq04_3=9)) %>%\n",
    "    mutate(Seeking = pmin(cq04_1,cq04_2,cq04_3)) %>%\n",
    "    select(Seeking) %>%\n",
    "    mutate(Seeking = ifelse(Seeking > 8,8, Seeking))\n",
    "    Seeker <- SeekingData$Seeking\n",
    "    DataLength <- eval(parse(text=DataSet))$serialno\n",
    "    SeekingSums <- c(sum(Seeker == 8),sum(Seeker < 8),sum(Seeker < 7),sum(Seeker <5),sum(Seeker <4),sum(Seeker <2))\n",
    "    SeekingSums[1] <- length(DataLength)-SeekingSums[2]\n",
    "    SeekingSums <- SeekingSums/length(DataLength)\n",
    "    SeekingSums <- round(SeekingSums,3)\n",
    "    SeekingSums <- SeekingSums*100\n",
    "    #SeekingSums <- rbind(c(\"Not at all\", \"At least Yearly\",\"At least 6-monthly\",\"At least Monthly\",\n",
    "    #                       \"At least Weekly\",\"At least Daily\"),\n",
    "    #                     SeekingSums)\n",
    "    return(SeekingSums)\n",
    "}\n",
    "\n",
    "SeekingTable<-data.frame(rbind(Seeking(\"Italy\"),Seeking(\"Switzerland\"),Seeking(\"Austria\"),Seeking(\"Germany\")))\n",
    "colnames(SeekingTable)<-c(\"Not at all\", \"At least Yearly\",\"At least 6-monthly\",\"At least Monthly\",\n",
    "                           \"At least Weekly\",\"At least Daily\")\n",
    "rownames(SeekingTable)<-c(\"Italy\",\"Switzerland\",\"Austria\",\"Germany\")\n",
    "print(as.matrix(SeekingTable))"
   ]
  },
  {
   "cell_type": "code",
   "execution_count": 58,
   "metadata": {},
   "outputs": [
    {
     "data": {
      "text/html": [
       "<table>\n",
       "<tbody>\n",
       "\t<tr><td>71.1</td><td>28.9</td><td>26.1</td><td>19.6</td><td>14.6</td><td>5.1 </td></tr>\n",
       "\t<tr><td>69.6</td><td>30.4</td><td>26.4</td><td>17.7</td><td>11.5</td><td>2.7 </td></tr>\n",
       "\t<tr><td>82.1</td><td>17.9</td><td>15.7</td><td>10.0</td><td> 5.9</td><td>0.8 </td></tr>\n",
       "\t<tr><td>87.9</td><td>12.1</td><td>10.1</td><td> 6.5</td><td> 4.5</td><td>0.8 </td></tr>\n",
       "</tbody>\n",
       "</table>\n"
      ],
      "text/latex": [
       "\\begin{tabular}{llllll}\n",
       "\t 71.1 & 28.9 & 26.1 & 19.6 & 14.6 & 5.1 \\\\\n",
       "\t 69.6 & 30.4 & 26.4 & 17.7 & 11.5 & 2.7 \\\\\n",
       "\t 82.1 & 17.9 & 15.7 & 10.0 &  5.9 & 0.8 \\\\\n",
       "\t 87.9 & 12.1 & 10.1 &  6.5 &  4.5 & 0.8 \\\\\n",
       "\\end{tabular}\n"
      ],
      "text/markdown": [
       "\n",
       "| 71.1 | 28.9 | 26.1 | 19.6 | 14.6 | 5.1  | \n",
       "| 69.6 | 30.4 | 26.4 | 17.7 | 11.5 | 2.7  | \n",
       "| 82.1 | 17.9 | 15.7 | 10.0 |  5.9 | 0.8  | \n",
       "| 87.9 | 12.1 | 10.1 |  6.5 |  4.5 | 0.8  | \n",
       "\n",
       "\n"
      ],
      "text/plain": [
       "     [,1] [,2] [,3] [,4] [,5] [,6]\n",
       "[1,] 71.1 28.9 26.1 19.6 14.6 5.1 \n",
       "[2,] 69.6 30.4 26.4 17.7 11.5 2.7 \n",
       "[3,] 82.1 17.9 15.7 10.0  5.9 0.8 \n",
       "[4,] 87.9 12.1 10.1  6.5  4.5 0.8 "
      ]
     },
     "metadata": {},
     "output_type": "display_data"
    }
   ],
   "source": []
  },
  {
   "cell_type": "code",
   "execution_count": 67,
   "metadata": {},
   "outputs": [
    {
     "name": "stdout",
     "output_type": "stream",
     "text": [
      "            Not at all At least Yearly At least 6-monthly At least Monthly\n",
      "Italy             71.1            28.9               26.1             19.6\n",
      "Switzerland       72.9            27.1               23.7             16.3\n",
      "Austria           69.6            30.4               26.4             17.7\n",
      "Germany           82.1            17.9               15.7             10.0\n",
      "            At least Weekly At least Daily\n",
      "Italy                  14.6            5.1\n",
      "Switzerland            10.9            3.0\n",
      "Austria                11.5            2.7\n",
      "Germany                 5.9            0.8\n"
     ]
    }
   ],
   "source": []
  }
 ],
 "metadata": {
  "kernelspec": {
   "display_name": "R",
   "language": "R",
   "name": "ir"
  },
  "language_info": {
   "codemirror_mode": "r",
   "file_extension": ".r",
   "mimetype": "text/x-r-source",
   "name": "R",
   "pygments_lexer": "r",
   "version": "3.4.4"
  }
 },
 "nbformat": 4,
 "nbformat_minor": 2
}
