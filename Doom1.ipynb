{
 "cells": [
  {
   "cell_type": "markdown",
   "metadata": {},
   "source": [
    "# Is 1 in 5 Italians really involved in the gig economy?\n",
    "\n",
    "## A question from the floor...\n",
    "\n",
    "At a recent presentation in rome I presented the results form FEPS Digital Footprint study. Part of this study highlight the prevalence of labour in the gig economy in 7 European Countries, the UK, Netherlands, Germany, Sweden, Austria, Switzerland and Italy. One of the responses I got was that the number of Italians that had engaged in paid work in the gig economy was far too high to be credible.  The gross number was roughly 21%, and one of the attendees stood up and asked me “Is this real?”. I recovered quite well, but in hindsight I didn’t defend our research as eloquently as I should have been. No research is perfect, and there are several issues that could bias the data, and I will go over them later. First let me go over the claims though.  The analysis of the Italian data can be found below:\n"
   ]
  },
  {
   "cell_type": "code",
   "execution_count": 35,
   "metadata": {},
   "outputs": [],
   "source": [
    "library(tidyverse)\n",
    "library(ggplot2)\n",
    "Italy <- read.csv(url(\"https://docs.google.com/spreadsheets/d/e/2PACX-1vS4rEItbjyfB5EIECdy4ZxAhvnk3RCKk_C-yPqRIfkU6MZuGK3n1uem4l_3SpaVAPds_D9N-_lBHlxA/pub?gid=1641105757&single=true&output=csv\"))\n",
    "Austria <- read.csv(url(\"https://docs.google.com/spreadsheets/d/e/2PACX-1vQeXHa0y7TXgGj51MZEHQ06EGsQqlMMvibxIjDgBGBErR7K78IdUiI0QyN74-u-ZK-xiKPPK44QaXIs/pub?gid=1199263111&single=true&output=csv\"))\n",
    "Germany <- read.csv(url(\"https://docs.google.com/spreadsheets/d/e/2PACX-1vTf6DA5wtunEJRUyZu9JW-IAEfvrwYdcEb26RWsA8yvi92-AbLPSno7f8V9oGCK2UlSm3dxy2TY8YKI/pub?gid=45076544&single=true&output=csv\"))\n",
    "Netherlands <- read.csv(url(\"https://docs.google.com/spreadsheets/d/e/2PACX-1vSG4KhoDwlRHXYTBkQxeWrcyfNFACuAlUO2yPMzt1wltbq61OE4sTSUnNpWq4gtXPu66J0Ck6ZxGWwK/pub?gid=64414547&single=true&output=csv\"))\n",
    "Sweden <- read.csv(url(\"https://docs.google.com/spreadsheets/d/e/2PACX-1vRTL6pnjVYMLfQLPeFCt33kTX1UQbE8D0eqgruEOWKwueraV4E5wyCVN5oB_5ei8b3KQjKY3mFyjydx/pub?gid=1665871730&single=true&output=csv\"))\n",
    "Switzerland <- read.csv(url(\"https://docs.google.com/spreadsheets/d/e/2PACX-1vQdQo2JJn91my4njXzXZqIMwARC0hzQRVxOFKGHw8Qj3x8wtudrmJ2DXVYjeTvbCwtt2D104U5kINqx/pub?gid=1862985627&single=true&output=csv\"))\n",
    "UK <- read.csv(url(\"https://docs.google.com/spreadsheets/d/e/2PACX-1vT3Cq-uNkzBWv9xR02dsmYgtnxC4suwyqi7FCRtxevjjZPZqlPvIiW4yEMZ2AI2wjyOpFfOP3yv1ckm/pub?gid=1046723974&single=true&output=csv\"))\n",
    "Seeking <- function(DataSet){\n",
    "    SeekingData <- eval(parse(text=DataSet)) %>%\n",
    "    select(cq03_7,cq03_8,cq03_9) %>%\n",
    "    mutate(Seeking = pmin(cq03_7,cq03_8,cq03_9)) %>%\n",
    "    select(Seeking) %>%\n",
    "    mutate(Seeking = ifelse(Seeking > 8,8, Seeking))\n",
    "    Seeker <- SeekingData$Seeking\n",
    "    SeekingSums <- c(sum(Seeker == 8),sum(Seeker < 8),sum(Seeker < 7),sum(Seeker <5),sum(Seeker <4),sum(Seeker <2))\n",
    "    SeekingSums <- SeekingSums/length(Seeker)\n",
    "    SeekingSums <- round(SeekingSums,3)\n",
    "    SeekingSums <- SeekingSums*100\n",
    "    #SeekingSums <- rbind(c(\"Not at all\", \"At least Yearly\",\"At least 6-monthly\",\"At least Monthly\",\n",
    "    #                       \"At least Weekly\",\"At least Daily\"),\n",
    "    #                     SeekingSums)\n",
    "    return(SeekingSums)\n",
    "}\n",
    "\n",
    "\n",
    "Finding <- function(DataSet){\n",
    "    SeekingData <- eval(parse(text=DataSet)) %>%\n",
    "    select(cq04_1,cq04_2,cq04_3) %>%\n",
    "    replace_na(list(cq04_1=9,cq04_2=9,cq04_3=9)) %>%\n",
    "    mutate(Seeking = pmin(cq04_1,cq04_2,cq04_3)) %>%\n",
    "    select(Seeking) %>%\n",
    "    mutate(Seeking = ifelse(Seeking > 8,8, Seeking))\n",
    "    Seeker <- SeekingData$Seeking\n",
    "    DataLength <- eval(parse(text=DataSet))$serialno\n",
    "    SeekingSums <- c(sum(Seeker == 8),sum(Seeker < 8),sum(Seeker < 7),sum(Seeker <5),sum(Seeker <4),sum(Seeker <2))\n",
    "    SeekingSums[1] <- length(DataLength)-SeekingSums[2]\n",
    "    SeekingSums <- SeekingSums/length(DataLength)\n",
    "    SeekingSums <- round(SeekingSums,3)\n",
    "    SeekingSums <- SeekingSums*100\n",
    "    #SeekingSums <- rbind(c(\"Not at all\", \"At least Yearly\",\"At least 6-monthly\",\"At least Monthly\",\n",
    "    #                       \"At least Weekly\",\"At least Daily\"),\n",
    "    #                     SeekingSums)\n",
    "    return(SeekingSums)\n",
    "}\n",
    "\n",
    "Income <- function(DataSet){\n",
    "    \n",
    "}\n",
    "FrequencyList <- c(\" 1 Not at all\", \"2 At least Yearly\",\"3 At least 6-monthly\",\"4 At least Monthly\",\n",
    "                           \"5 At least Weekly\",\"6 At least Daily\")\n",
    "\n",
    "\n",
    "SeekingTable<-data.frame(rbind(Seeking(\"Italy\"),Seeking(\"Switzerland\"),Seeking(\"Austria\"),Seeking(\"Germany\"),\n",
    "                               Seeking(\"Netherlands\"), Seeking(\"Sweden\"), Seeking(\"UK\")))\n",
    "colnames(SeekingTable)<- FrequencyList\n",
    "\n",
    "rownames(SeekingTable)<-c(\"Italy\",\"Switzerland\",\"Austria\",\"Germany\",\"Netherlands\",\"Sweden\",\"UK\")\n",
    "\n",
    "\n"
   ]
  },
  {
   "cell_type": "markdown",
   "metadata": {},
   "source": [
    "## A picture of Italy.\n",
    "\n",
    "Italy is a nice place with 60-odd million people, but our snapshot of Italy is made up of a weighted sample of 2200 people.  We hope that this sample is representative of the Italian population in general, and will get to that in a second.\n",
    "\n",
    "For now however, let’s focus on the questions and the answers that these 2200 people gave.\n",
    "\n",
    "### Looking for work:\n",
    "\n",
    "The first question is related to whether or not a person LOOKS for gig work. This is done by a set of questions. These questions are labelled cq03_7-9 and ask how often someone...\n",
    "\n",
    "* Look for work you can carry out from your own home on a website such as Upwork, Freelancer, Addlance, Elance, Odesk or PeoplePerHour\n",
    "* Look for work you can carry out for different customers somewhere outside your home on a website such as Taskrabbit, Myhammer, Semplifiko, Helpling or SOSartigiani\n",
    "* Offer to drive someone to a location for a fee using an app or website such as Uber or Blablacar\n",
    "\n",
    "Since we are, at the moment only interested if somebody does ANY of these things, we look for the one type of work (if any) they look for the most often, and use that as our measure of how often they look for gig work online. \n",
    "\n",
    "Here are the percentages of people in our dataset looking for work using one of the three methods:\n",
    "\n"
   ]
  },
  {
   "cell_type": "code",
   "execution_count": 37,
   "metadata": {},
   "outputs": [
    {
     "name": "stdout",
     "output_type": "stream",
     "text": [
      "[1] \"People Seeking Crowdwork\"\n"
     ]
    },
    {
     "data": {
      "text/html": [
       "<table>\n",
       "<thead><tr><th></th><th scope=col> 1 Not at all</th><th scope=col>2 At least Yearly</th><th scope=col>3 At least 6-monthly</th><th scope=col>4 At least Monthly</th><th scope=col>5 At least Weekly</th><th scope=col>6 At least Daily</th></tr></thead>\n",
       "<tbody>\n",
       "\t<tr><th scope=row>Italy</th><td>71.1</td><td>28.9</td><td>26.1</td><td>19.6</td><td>14.6</td><td>5.1 </td></tr>\n",
       "</tbody>\n",
       "</table>\n"
      ],
      "text/latex": [
       "\\begin{tabular}{r|llllll}\n",
       "  &  1 Not at all & 2 At least Yearly & 3 At least 6-monthly & 4 At least Monthly & 5 At least Weekly & 6 At least Daily\\\\\n",
       "\\hline\n",
       "\tItaly & 71.1 & 28.9 & 26.1 & 19.6 & 14.6 & 5.1 \\\\\n",
       "\\end{tabular}\n"
      ],
      "text/markdown": [
       "\n",
       "| <!--/--> |  1 Not at all | 2 At least Yearly | 3 At least 6-monthly | 4 At least Monthly | 5 At least Weekly | 6 At least Daily | \n",
       "|---|\n",
       "| Italy | 71.1 | 28.9 | 26.1 | 19.6 | 14.6 | 5.1  | \n",
       "\n",
       "\n"
      ],
      "text/plain": [
       "       1 Not at all 2 At least Yearly 3 At least 6-monthly 4 At least Monthly\n",
       "Italy 71.1          28.9              26.1                 19.6              \n",
       "      5 At least Weekly 6 At least Daily\n",
       "Italy 14.6              5.1             "
      ]
     },
     "metadata": {},
     "output_type": "display_data"
    }
   ],
   "source": [
    "print(\"People Seeking Crowdwork\")\n",
    "SeekingTable[1,]\n"
   ]
  },
  {
   "cell_type": "markdown",
   "metadata": {},
   "source": [
    "This is quite a large number! It suggests that almost a third of Italians look for this sort of work at least once a year. In fact, the larger number of 6-monthly and Monthly job searchers seem very large.\n",
    "\n",
    "### Now that we found work, what are we gonna do?\n",
    "\n",
    "The actual number of people who FIND work is somewhat smaller.  The amount of work that they find can be defined in two ways: The frequency of work (how often they engage in paid work), and the proportion of their total income that they get from this work. \n",
    "\n",
    "We get this information as well from the spreadsheet.\n",
    "#### Frequency\n",
    "\n",
    "The questions asked in cq04 give us the frequency. After recoding a bit to take into account missing data we end up with the following frequencies:\n",
    "\n"
   ]
  },
  {
   "cell_type": "code",
   "execution_count": 40,
   "metadata": {},
   "outputs": [
    {
     "name": "stdout",
     "output_type": "stream",
     "text": [
      "[1] \"Percentages of Italians finding work in our sample\"\n"
     ]
    },
    {
     "data": {
      "text/html": [
       "<table>\n",
       "<tbody>\n",
       "\t<tr><th scope=row>FrequencyList</th><td> 1 Not at all       </td><td>2 At least Yearly   </td><td>3 At least 6-monthly</td><td>4 At least Monthly  </td><td>5 At least Weekly   </td><td>6 At least Daily    </td></tr>\n",
       "\t<tr><th scope=row></th><td>78.4                </td><td>21.6                </td><td>19.2                </td><td>13.6                </td><td>10.3                </td><td>3                   </td></tr>\n",
       "</tbody>\n",
       "</table>\n"
      ],
      "text/latex": [
       "\\begin{tabular}{r|llllll}\n",
       "\tFrequencyList &  1 Not at all        & 2 At least Yearly    & 3 At least 6-monthly & 4 At least Monthly   & 5 At least Weekly    & 6 At least Daily    \\\\\n",
       "\t & 78.4                 & 21.6                 & 19.2                 & 13.6                 & 10.3                 & 3                   \\\\\n",
       "\\end{tabular}\n"
      ],
      "text/markdown": [
       "\n",
       "| FrequencyList |  1 Not at all        | 2 At least Yearly    | 3 At least 6-monthly | 4 At least Monthly   | 5 At least Weekly    | 6 At least Daily     | \n",
       "|  | 78.4                 | 21.6                 | 19.2                 | 13.6                 | 10.3                 | 3                    | \n",
       "\n",
       "\n"
      ],
      "text/plain": [
       "              [,1]          [,2]              [,3]                \n",
       "FrequencyList  1 Not at all 2 At least Yearly 3 At least 6-monthly\n",
       "              78.4          21.6              19.2                \n",
       "              [,4]               [,5]              [,6]            \n",
       "FrequencyList 4 At least Monthly 5 At least Weekly 6 At least Daily\n",
       "              13.6               10.3              3               "
      ]
     },
     "metadata": {},
     "output_type": "display_data"
    }
   ],
   "source": [
    "print(\"Percentages of Italians finding work in our sample\")\n",
    "rbind(FrequencyList,Finding(DataSet = \"Italy\"))"
   ]
  },
  {
   "cell_type": "markdown",
   "metadata": {},
   "source": [
    "This is quite similar, roughly 1 in 5 engage in this sort of work at least once every 6 months, and 10% on a weekly basis. A small minority of 3% do it every day!\n",
    "\n",
    "#### Income\n",
    "\n",
    "The question asked in cq06 is regarding the proportion of total income that italians reported they derived from income. We see that 82% report no income at all (This includes people who didn’t know, or refused to answer). For roughly 20 percent is at least under 10 percent, but we see that roughly 5 percent of the italian sample state  that rely on this sort of work for at least 50 percent of their income. \n",
    "\n",
    "\n"
   ]
  }
 ],
 "metadata": {
  "kernelspec": {
   "display_name": "R",
   "language": "R",
   "name": "ir"
  },
  "language_info": {
   "codemirror_mode": "r",
   "file_extension": ".r",
   "mimetype": "text/x-r-source",
   "name": "R",
   "pygments_lexer": "r",
   "version": "3.4.4"
  }
 },
 "nbformat": 4,
 "nbformat_minor": 2
}
