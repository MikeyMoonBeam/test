{
 "cells": [
  {
   "cell_type": "markdown",
   "metadata": {},
   "source": [
    "# Are 1 in 5 Italians really involved in the gig economy?\n",
    "\n",
    "## A question from the floor...\n",
    "\n",
    "At a recent presentation in rome I presented the results form FEPS Digital Footprint study. Part of this study highlight the prevalence of labour in the gig economy in 7 European Countries, the UK, Netherlands, Germany, Sweden, Austria, Switzerland and Italy. One of the responses I got was that the number of Italians that had engaged in paid work in the gig economy was far too high to be credible.  The gross number was roughly 21%, and one of the attendees stood up and asked me “Is this real?”. I recovered quite well, but in hindsight I didn’t defend our research as eloquently as I should have been. No research is perfect, and there are several issues that could bias the data, and I will go over them later. First let me go over the claims though.  The analysis of the Italian data can be found below:\n"
   ]
  },
  {
   "cell_type": "code",
   "execution_count": 103,
   "metadata": {},
   "outputs": [
    {
     "name": "stderr",
     "output_type": "stream",
     "text": [
      "Warning message:\n",
      "\"package 'Hmisc' is in use and will not be installed\""
     ]
    }
   ],
   "source": [
    "install.packages(\"Hmisc\")\n",
    "library(tidyverse)\n",
    "library(ggplot2)\n",
    "library(Hmisc)\n",
    "library(reshape2)\n",
    "Italy <- read.csv(url(\"https://docs.google.com/spreadsheets/d/e/2PACX-1vS4rEItbjyfB5EIECdy4ZxAhvnk3RCKk_C-yPqRIfkU6MZuGK3n1uem4l_3SpaVAPds_D9N-_lBHlxA/pub?gid=1641105757&single=true&output=csv\"))\n",
    "Austria <- read.csv(url(\"https://docs.google.com/spreadsheets/d/e/2PACX-1vQeXHa0y7TXgGj51MZEHQ06EGsQqlMMvibxIjDgBGBErR7K78IdUiI0QyN74-u-ZK-xiKPPK44QaXIs/pub?gid=1199263111&single=true&output=csv\"))\n",
    "Germany <- read.csv(url(\"https://docs.google.com/spreadsheets/d/e/2PACX-1vTf6DA5wtunEJRUyZu9JW-IAEfvrwYdcEb26RWsA8yvi92-AbLPSno7f8V9oGCK2UlSm3dxy2TY8YKI/pub?gid=45076544&single=true&output=csv\"))\n",
    "Netherlands <- read.csv(url(\"https://docs.google.com/spreadsheets/d/e/2PACX-1vSG4KhoDwlRHXYTBkQxeWrcyfNFACuAlUO2yPMzt1wltbq61OE4sTSUnNpWq4gtXPu66J0Ck6ZxGWwK/pub?gid=64414547&single=true&output=csv\"))\n",
    "Sweden <- read.csv(url(\"https://docs.google.com/spreadsheets/d/e/2PACX-1vRTL6pnjVYMLfQLPeFCt33kTX1UQbE8D0eqgruEOWKwueraV4E5wyCVN5oB_5ei8b3KQjKY3mFyjydx/pub?gid=1665871730&single=true&output=csv\"))\n",
    "Switzerland <- read.csv(url(\"https://docs.google.com/spreadsheets/d/e/2PACX-1vQdQo2JJn91my4njXzXZqIMwARC0hzQRVxOFKGHw8Qj3x8wtudrmJ2DXVYjeTvbCwtt2D104U5kINqx/pub?gid=1862985627&single=true&output=csv\"))\n",
    "UK <- read.csv(url(\"https://docs.google.com/spreadsheets/d/e/2PACX-1vT3Cq-uNkzBWv9xR02dsmYgtnxC4suwyqi7FCRtxevjjZPZqlPvIiW4yEMZ2AI2wjyOpFfOP3yv1ckm/pub?gid=1046723974&single=true&output=csv\"))\n",
    "Seeking <- function(DataSet,IUSE=1){\n",
    "    SeekingData <- eval(parse(text=DataSet)) %>%\n",
    "    select(cq03_7,cq03_8,cq03_9) %>%\n",
    "    mutate(Seeking = pmin(cq03_7,cq03_8,cq03_9)) %>%\n",
    "    select(Seeking) %>%\n",
    "    mutate(Seeking = ifelse(Seeking > 8,8, Seeking))\n",
    "    Seeker <- SeekingData$Seeking\n",
    "    SeekingSums <- c(sum(Seeker == 8),sum(Seeker < 8),sum(Seeker < 7),sum(Seeker <5),sum(Seeker <4),sum(Seeker <2))\n",
    "    SeekingSums <- (SeekingSums/length(Seeker))*IUSE\n",
    "    SeekingSums <- round(SeekingSums,3)\n",
    "    SeekingSums <- SeekingSums*100\n",
    "    #SeekingSums <- rbind(c(\"Not at all\", \"At least Yearly\",\"At least 6-monthly\",\"At least Monthly\",\n",
    "    #                       \"At least Weekly\",\"At least Daily\"),\n",
    "    #                     SeekingSums)\n",
    "    return(SeekingSums)\n",
    "}\n",
    "\n",
    "\n",
    "Finding <- function(DataSet,IUSE=1){\n",
    "    if(DataSet == \"Italy\"|DataSet == \"Switzerland\"){\n",
    "    SeekingData <- eval(parse(text=DataSet)) %>%\n",
    "    select(cq04_1,cq04_2,cq04_3) %>%\n",
    "    replace_na(list(cq04_1=9,cq04_2=9,cq04_3=9)) %>%\n",
    "    mutate(Seeking = pmin(cq04_1,cq04_2,cq04_3)) %>%\n",
    "    select(Seeking) %>%\n",
    "    mutate(Seeking = ifelse(Seeking > 8,8, Seeking))\n",
    "    Seeker <- SeekingData$Seeking\n",
    "    DataLength <- eval(parse(text=DataSet))$serialno\n",
    "    SeekingSums <- c(sum(Seeker == 8),sum(Seeker < 8),sum(Seeker < 7),sum(Seeker <5),sum(Seeker <4),sum(Seeker <2))\n",
    "    SeekingSums[1] <- length(DataLength)-SeekingSums[2]\n",
    "    SeekingSums <- (SeekingSums/length(DataLength))*IUSE\n",
    "    SeekingSums <- round(SeekingSums,3)\n",
    "    SeekingSums <- SeekingSums*100\n",
    "    #SeekingSums <- rbind(c(\"Not at all\", \"At least Yearly\",\"At least 6-monthly\",\"At least Monthly\",\n",
    "    #                       \"At least Weekly\",\"At least Daily\"),\n",
    "    #                     SeekingSums)\n",
    "    return(SeekingSums)} else {\n",
    "    SeekingData <- eval(parse(text=DataSet)) %>%\n",
    "    select(cq04) %>%\n",
    "    replace_na(list(cq04=9)) %>%\n",
    "    mutate(Seeking = cq04) %>%\n",
    "    select(Seeking) %>%\n",
    "    mutate(Seeking = ifelse(Seeking > 8,8, Seeking))\n",
    "    Seeker <- SeekingData$Seeking\n",
    "    DataLength <- eval(parse(text=DataSet))$serialno\n",
    "    SeekingSums <- c(sum(Seeker == 8),sum(Seeker < 8),sum(Seeker < 7),sum(Seeker <5),sum(Seeker <4),sum(Seeker <2))\n",
    "    SeekingSums[1] <- length(DataLength)-SeekingSums[2]\n",
    "    SeekingSums <- (SeekingSums/length(DataLength))*IUSE\n",
    "    SeekingSums <- round(SeekingSums,3)\n",
    "    SeekingSums <- SeekingSums*100 \n",
    "        return(SeekingSums)}\n",
    "}\n",
    "\n",
    "Income <- function(DataSet){\n",
    "     SeekingData <- eval(parse(text=DataSet)) %>%\n",
    "    select(cq06) %>%\n",
    "    replace_na(list(cq06 = 0))%>%\n",
    "    mutate(cq06 = ifelse(cq06>6,0,cq06))\n",
    "    DataLength <- eval(parse(text=DataSet))$serialno\n",
    "    Seeker <- SeekingData$cq06\n",
    "    SeekingSums <-c(sum(Seeker == 0),sum(Seeker >=1),sum(Seeker >=2),sum(Seeker >=3),sum(Seeker >=4),\n",
    "                    sum(Seeker >=5),sum(Seeker >=6))\n",
    "    SeekingSums <- SeekingSums/length(DataLength)\n",
    "    SeekingSums <- round(SeekingSums,3)\n",
    "    SeekingSums <- SeekingSums*100\n",
    "    return(SeekingSums)\n",
    "    \n",
    "    \n",
    "}\n",
    "FrequencyList <- c(\" 1 Not at all\", \"2 At least Yearly\",\"3 At least 6-monthly\",\"4 At least Monthly\",\n",
    "                           \"5 At least Weekly\",\"6 At least Daily\")\n",
    "\n",
    "IncomeList <- c(\"1 No Income\", \"2 Any Income\", \"3 At least 10%\",\"4 At least 25%\",\"5 At least 50%\",\"6 At least 75%\",\n",
    "               \"7 All income\")\n",
    "\n",
    "SeekingTable<-data.frame(rbind(Seeking(\"Italy\"),Seeking(\"Switzerland\"),Seeking(\"Austria\"),Seeking(\"Germany\"),\n",
    "                               Seeking(\"Netherlands\"), Seeking(\"Sweden\"), Seeking(\"UK\")))\n",
    "colnames(SeekingTable)<- FrequencyList\n",
    "\n",
    "rownames(SeekingTable)<-c(\"Italy\",\"Switzerland\",\"Austria\",\"Germany\",\"Netherlands\",\"Sweden\",\"UK\")\n",
    "\n"
   ]
  },
  {
   "cell_type": "markdown",
   "metadata": {},
   "source": [
    "## A picture of Italy.\n",
    "\n",
    "Italy is a country place with 60-odd million people, but our snapshot of Italy is made up of a weighted sample of 2200 people.  We hope that this sample is representative of the Italian population in general, and will get to that in a second.\n",
    "\n",
    "For now however, let’s focus on the questions and the answers that these 2200 people gave.\n",
    "\n",
    "### Looking for work:\n",
    "\n",
    "The first question is related to whether or not a person LOOKS for gig work. This is done by a set of questions. These questions are labelled cq03_7-9 and ask how often someone...\n",
    "\n",
    "* Look for work you can carry out from your own home on a website such as Upwork, Freelancer, Addlance, Elance, Odesk or PeoplePerHour\n",
    "* Look for work you can carry out for different customers somewhere outside your home on a website such as Taskrabbit, Myhammer, Semplifiko, Helpling or SOSartigiani\n",
    "* Offer to drive someone to a location for a fee using an app or website such as Uber or Blablacar\n",
    "\n",
    "Since we are, at the moment only interested if somebody does ANY of these things, we look for the one type of work (if any) they look for the most often, and use that as our measure of how often they look for gig work online. \n",
    "\n",
    "Here are the percentages of people in our dataset looking for work using one of the three methods (please note that I have not applied weighting yet, but I will be getting to that later:\n",
    "\n"
   ]
  },
  {
   "cell_type": "code",
   "execution_count": 104,
   "metadata": {},
   "outputs": [
    {
     "name": "stdout",
     "output_type": "stream",
     "text": [
      "[1] \"People Seeking Crowdwork\"\n"
     ]
    },
    {
     "data": {
      "text/html": [
       "<table>\n",
       "<thead><tr><th></th><th scope=col> 1 Not at all</th><th scope=col>2 At least Yearly</th><th scope=col>3 At least 6-monthly</th><th scope=col>4 At least Monthly</th><th scope=col>5 At least Weekly</th><th scope=col>6 At least Daily</th></tr></thead>\n",
       "<tbody>\n",
       "\t<tr><th scope=row>Italy</th><td>71.1</td><td>28.9</td><td>26.1</td><td>19.6</td><td>14.6</td><td>5.1 </td></tr>\n",
       "</tbody>\n",
       "</table>\n"
      ],
      "text/latex": [
       "\\begin{tabular}{r|llllll}\n",
       "  &  1 Not at all & 2 At least Yearly & 3 At least 6-monthly & 4 At least Monthly & 5 At least Weekly & 6 At least Daily\\\\\n",
       "\\hline\n",
       "\tItaly & 71.1 & 28.9 & 26.1 & 19.6 & 14.6 & 5.1 \\\\\n",
       "\\end{tabular}\n"
      ],
      "text/markdown": [
       "\n",
       "| <!--/--> |  1 Not at all | 2 At least Yearly | 3 At least 6-monthly | 4 At least Monthly | 5 At least Weekly | 6 At least Daily | \n",
       "|---|\n",
       "| Italy | 71.1 | 28.9 | 26.1 | 19.6 | 14.6 | 5.1  | \n",
       "\n",
       "\n"
      ],
      "text/plain": [
       "       1 Not at all 2 At least Yearly 3 At least 6-monthly 4 At least Monthly\n",
       "Italy 71.1          28.9              26.1                 19.6              \n",
       "      5 At least Weekly 6 At least Daily\n",
       "Italy 14.6              5.1             "
      ]
     },
     "metadata": {},
     "output_type": "display_data"
    }
   ],
   "source": [
    "print(\"People Seeking Crowdwork\")\n",
    "SeekingTable[1,]\n"
   ]
  },
  {
   "cell_type": "markdown",
   "metadata": {},
   "source": [
    "This is quite a large number! It suggests that almost a third of Italians look for this sort of work at least once a year. In fact, the larger number of 6-monthly and Monthly job searchers seem very large.\n",
    "\n",
    "### Now that we found work, what are we gonna do?\n",
    "\n",
    "The actual number of people who FIND work is somewhat smaller.  The amount of work that they find can be defined in two ways: The frequency of work (how often they engage in paid work), and the proportion of their total income that they get from this work. \n",
    "\n",
    "We get this information as well from the spreadsheet.\n",
    "#### Frequency\n",
    "\n",
    "The questions asked in cq04 give us the frequency. After recoding a bit to take into account missing data we end up with the following frequencies:\n",
    "\n"
   ]
  },
  {
   "cell_type": "code",
   "execution_count": 105,
   "metadata": {},
   "outputs": [
    {
     "name": "stdout",
     "output_type": "stream",
     "text": [
      "[1] \"Percentages of Italians finding work in our sample\"\n"
     ]
    },
    {
     "data": {
      "text/html": [
       "<table>\n",
       "<tbody>\n",
       "\t<tr><th scope=row>FrequencyList</th><td> 1 Not at all       </td><td>2 At least Yearly   </td><td>3 At least 6-monthly</td><td>4 At least Monthly  </td><td>5 At least Weekly   </td><td>6 At least Daily    </td></tr>\n",
       "\t<tr><th scope=row></th><td>78.4                </td><td>21.6                </td><td>19.2                </td><td>13.6                </td><td>10.3                </td><td>3                   </td></tr>\n",
       "</tbody>\n",
       "</table>\n"
      ],
      "text/latex": [
       "\\begin{tabular}{r|llllll}\n",
       "\tFrequencyList &  1 Not at all        & 2 At least Yearly    & 3 At least 6-monthly & 4 At least Monthly   & 5 At least Weekly    & 6 At least Daily    \\\\\n",
       "\t & 78.4                 & 21.6                 & 19.2                 & 13.6                 & 10.3                 & 3                   \\\\\n",
       "\\end{tabular}\n"
      ],
      "text/markdown": [
       "\n",
       "| FrequencyList |  1 Not at all        | 2 At least Yearly    | 3 At least 6-monthly | 4 At least Monthly   | 5 At least Weekly    | 6 At least Daily     | \n",
       "|  | 78.4                 | 21.6                 | 19.2                 | 13.6                 | 10.3                 | 3                    | \n",
       "\n",
       "\n"
      ],
      "text/plain": [
       "              [,1]          [,2]              [,3]                \n",
       "FrequencyList  1 Not at all 2 At least Yearly 3 At least 6-monthly\n",
       "              78.4          21.6              19.2                \n",
       "              [,4]               [,5]              [,6]            \n",
       "FrequencyList 4 At least Monthly 5 At least Weekly 6 At least Daily\n",
       "              13.6               10.3              3               "
      ]
     },
     "metadata": {},
     "output_type": "display_data"
    }
   ],
   "source": [
    "print(\"Percentages of Italians finding work in our sample\")\n",
    "rbind(FrequencyList,Finding(DataSet = \"Italy\"))"
   ]
  },
  {
   "cell_type": "markdown",
   "metadata": {},
   "source": [
    "This is quite similar, roughly 1 in 5 engage in this sort of work at least once every 6 months, and 10% on a weekly basis. A small minority of 3% do it every day!\n",
    "\n",
    "#### Income\n",
    "\n",
    "The question asked in cq06 is regarding the proportion of total income that italians reported they derived from income. We see that 82% report no income at all (This includes people who didn’t know, or refused to answer). For roughly 20 percent is at least under 10 percent, but we see that roughly 5 percent of the italian sample state  that rely on this sort of work for at least 50 percent of their income. \n",
    "\n",
    "\n"
   ]
  },
  {
   "cell_type": "code",
   "execution_count": 106,
   "metadata": {},
   "outputs": [
    {
     "name": "stdout",
     "output_type": "stream",
     "text": [
      "[1] \"Reported proportion of Income from crowdwork\"\n"
     ]
    },
    {
     "data": {
      "text/html": [
       "<table>\n",
       "<tbody>\n",
       "\t<tr><th scope=row>IncomeList</th><td>1 No Income   </td><td>2 Any Income  </td><td>3 At least 10%</td><td>4 At least 25%</td><td>5 At least 50%</td><td>6 At least 75%</td><td>7 All income  </td></tr>\n",
       "\t<tr><th scope=row></th><td>82.4          </td><td>17.6          </td><td>11.2          </td><td>7.8           </td><td>5.5           </td><td>3.4           </td><td>1.9           </td></tr>\n",
       "</tbody>\n",
       "</table>\n"
      ],
      "text/latex": [
       "\\begin{tabular}{r|lllllll}\n",
       "\tIncomeList & 1 No Income      & 2 Any Income     & 3 At least 10\\% & 4 At least 25\\% & 5 At least 50\\% & 6 At least 75\\% & 7 All income    \\\\\n",
       "\t & 82.4           & 17.6           & 11.2           & 7.8            & 5.5            & 3.4            & 1.9           \\\\\n",
       "\\end{tabular}\n"
      ],
      "text/markdown": [
       "\n",
       "| IncomeList | 1 No Income    | 2 Any Income   | 3 At least 10% | 4 At least 25% | 5 At least 50% | 6 At least 75% | 7 All income   | \n",
       "|  | 82.4           | 17.6           | 11.2           | 7.8            | 5.5            | 3.4            | 1.9            | \n",
       "\n",
       "\n"
      ],
      "text/plain": [
       "           [,1]        [,2]         [,3]           [,4]          \n",
       "IncomeList 1 No Income 2 Any Income 3 At least 10% 4 At least 25%\n",
       "           82.4        17.6         11.2           7.8           \n",
       "           [,5]           [,6]           [,7]        \n",
       "IncomeList 5 At least 50% 6 At least 75% 7 All income\n",
       "           5.5            3.4            1.9         "
      ]
     },
     "metadata": {},
     "output_type": "display_data"
    }
   ],
   "source": [
    "print(\"Reported proportion of Income from crowdwork\")\n",
    "rbind(IncomeList,Income(\"Italy\"))"
   ]
  },
  {
   "cell_type": "markdown",
   "metadata": {},
   "source": [
    "## So what is wrong with this picture?\n",
    "\n",
    "At first glance, nothing. It is a survey performed by a well-reputed provider, on whose work a lot of decisions are made (in Italy as well). However, the numbers seem very large (when compared to a lot of other estimates). Because of this, it is a good idea to investigate competing explanations for this result.  Some of these possible explanations are given below: \n",
    "\n",
    "1. Lost in translation\n",
    "1. Sampling Bias (Online vs Offline)\n",
    "1. Errors in the Survey\n",
    "1. Deception\n",
    "1. Other...\n",
    "\n",
    "### Lost in translation?\n",
    "\n",
    "Are there any specific language issues that may have cropped up? Perhaps, after all making sure that the contents of a survey mean the same things to respondents across 7 countries and 6 languages is quite a daunting task. Luckily we had the aid of both our suvey-provider as well as our local partner in ensuring that the content was meaningful for the particular country. However, if we are to use Switzerland (Because it uses German and **ITALIAN**) as an example, we can then investigate to see:\n",
    "\n",
    "\n",
    "\n"
   ]
  },
  {
   "cell_type": "code",
   "execution_count": 107,
   "metadata": {},
   "outputs": [
    {
     "name": "stdout",
     "output_type": "stream",
     "text": [
      "[1] \"Seeking Crowdwork\"\n"
     ]
    },
    {
     "data": {
      "text/html": [
       "<table>\n",
       "<tbody>\n",
       "\t<tr><th scope=row>Frequency</th><td> 1 Not at all       </td><td>2 At least Yearly   </td><td>3 At least 6-monthly</td><td>4 At least Monthly  </td><td>5 At least Weekly   </td><td>6 At least Daily    </td></tr>\n",
       "\t<tr><th scope=row>Italy</th><td>71.1                </td><td>28.9                </td><td>26.1                </td><td>19.6                </td><td>14.6                </td><td>5.1                 </td></tr>\n",
       "\t<tr><th scope=row>Switzerland</th><td>72.9                </td><td>27.1                </td><td>23.7                </td><td>16.3                </td><td>10.9                </td><td>3                   </td></tr>\n",
       "</tbody>\n",
       "</table>\n"
      ],
      "text/latex": [
       "\\begin{tabular}{r|llllll}\n",
       "\tFrequency &  1 Not at all        & 2 At least Yearly    & 3 At least 6-monthly & 4 At least Monthly   & 5 At least Weekly    & 6 At least Daily    \\\\\n",
       "\tItaly & 71.1                 & 28.9                 & 26.1                 & 19.6                 & 14.6                 & 5.1                 \\\\\n",
       "\tSwitzerland & 72.9                 & 27.1                 & 23.7                 & 16.3                 & 10.9                 & 3                   \\\\\n",
       "\\end{tabular}\n"
      ],
      "text/markdown": [
       "\n",
       "| Frequency |  1 Not at all        | 2 At least Yearly    | 3 At least 6-monthly | 4 At least Monthly   | 5 At least Weekly    | 6 At least Daily     | \n",
       "| Italy | 71.1                 | 28.9                 | 26.1                 | 19.6                 | 14.6                 | 5.1                  | \n",
       "| Switzerland | 72.9                 | 27.1                 | 23.7                 | 16.3                 | 10.9                 | 3                    | \n",
       "\n",
       "\n"
      ],
      "text/plain": [
       "            [,1]          [,2]              [,3]                \n",
       "Frequency    1 Not at all 2 At least Yearly 3 At least 6-monthly\n",
       "Italy       71.1          28.9              26.1                \n",
       "Switzerland 72.9          27.1              23.7                \n",
       "            [,4]               [,5]              [,6]            \n",
       "Frequency   4 At least Monthly 5 At least Weekly 6 At least Daily\n",
       "Italy       19.6               14.6              5.1             \n",
       "Switzerland 16.3               10.9              3               "
      ]
     },
     "metadata": {},
     "output_type": "display_data"
    },
    {
     "name": "stdout",
     "output_type": "stream",
     "text": [
      "[1] \"Finding Crowdwork\"\n"
     ]
    },
    {
     "data": {
      "text/html": [
       "<table>\n",
       "<tbody>\n",
       "\t<tr><th scope=row>Frequency</th><td> 1 Not at all       </td><td>2 At least Yearly   </td><td>3 At least 6-monthly</td><td>4 At least Monthly  </td><td>5 At least Weekly   </td><td>6 At least Daily    </td></tr>\n",
       "\t<tr><th scope=row>Italy</th><td>78.4                </td><td>21.6                </td><td>19.2                </td><td>13.6                </td><td>10.3                </td><td>3                   </td></tr>\n",
       "\t<tr><th scope=row>Switzerland</th><td>83.7                </td><td>16.3                </td><td>14.4                </td><td>9                   </td><td>6.4                 </td><td>1.8                 </td></tr>\n",
       "</tbody>\n",
       "</table>\n"
      ],
      "text/latex": [
       "\\begin{tabular}{r|llllll}\n",
       "\tFrequency &  1 Not at all        & 2 At least Yearly    & 3 At least 6-monthly & 4 At least Monthly   & 5 At least Weekly    & 6 At least Daily    \\\\\n",
       "\tItaly & 78.4                 & 21.6                 & 19.2                 & 13.6                 & 10.3                 & 3                   \\\\\n",
       "\tSwitzerland & 83.7                 & 16.3                 & 14.4                 & 9                    & 6.4                  & 1.8                 \\\\\n",
       "\\end{tabular}\n"
      ],
      "text/markdown": [
       "\n",
       "| Frequency |  1 Not at all        | 2 At least Yearly    | 3 At least 6-monthly | 4 At least Monthly   | 5 At least Weekly    | 6 At least Daily     | \n",
       "| Italy | 78.4                 | 21.6                 | 19.2                 | 13.6                 | 10.3                 | 3                    | \n",
       "| Switzerland | 83.7                 | 16.3                 | 14.4                 | 9                    | 6.4                  | 1.8                  | \n",
       "\n",
       "\n"
      ],
      "text/plain": [
       "            [,1]          [,2]              [,3]                \n",
       "Frequency    1 Not at all 2 At least Yearly 3 At least 6-monthly\n",
       "Italy       78.4          21.6              19.2                \n",
       "Switzerland 83.7          16.3              14.4                \n",
       "            [,4]               [,5]              [,6]            \n",
       "Frequency   4 At least Monthly 5 At least Weekly 6 At least Daily\n",
       "Italy       13.6               10.3              3               \n",
       "Switzerland 9                  6.4               1.8             "
      ]
     },
     "metadata": {},
     "output_type": "display_data"
    },
    {
     "name": "stdout",
     "output_type": "stream",
     "text": [
      "[1] \"Income from Crowdwork\"\n"
     ]
    },
    {
     "data": {
      "text/html": [
       "<table>\n",
       "<tbody>\n",
       "\t<tr><th scope=row>Frequency</th><td>1 No Income   </td><td>2 Any Income  </td><td>3 At least 10%</td><td>4 At least 25%</td><td>5 At least 50%</td><td>6 At least 75%</td><td>7 All income  </td></tr>\n",
       "\t<tr><th scope=row>Italy</th><td>82.4          </td><td>17.6          </td><td>11.2          </td><td>7.8           </td><td>5.5           </td><td>3.4           </td><td>1.9           </td></tr>\n",
       "\t<tr><th scope=row>Switzerland</th><td>86            </td><td>14            </td><td>7.2           </td><td>4.7           </td><td>3.4           </td><td>2.5           </td><td>1.6           </td></tr>\n",
       "</tbody>\n",
       "</table>\n"
      ],
      "text/latex": [
       "\\begin{tabular}{r|lllllll}\n",
       "\tFrequency & 1 No Income      & 2 Any Income     & 3 At least 10\\% & 4 At least 25\\% & 5 At least 50\\% & 6 At least 75\\% & 7 All income    \\\\\n",
       "\tItaly & 82.4           & 17.6           & 11.2           & 7.8            & 5.5            & 3.4            & 1.9           \\\\\n",
       "\tSwitzerland & 86             & 14             & 7.2            & 4.7            & 3.4            & 2.5            & 1.6           \\\\\n",
       "\\end{tabular}\n"
      ],
      "text/markdown": [
       "\n",
       "| Frequency | 1 No Income    | 2 Any Income   | 3 At least 10% | 4 At least 25% | 5 At least 50% | 6 At least 75% | 7 All income   | \n",
       "| Italy | 82.4           | 17.6           | 11.2           | 7.8            | 5.5            | 3.4            | 1.9            | \n",
       "| Switzerland | 86             | 14             | 7.2            | 4.7            | 3.4            | 2.5            | 1.6            | \n",
       "\n",
       "\n"
      ],
      "text/plain": [
       "            [,1]        [,2]         [,3]           [,4]          \n",
       "Frequency   1 No Income 2 Any Income 3 At least 10% 4 At least 25%\n",
       "Italy       82.4        17.6         11.2           7.8           \n",
       "Switzerland 86          14           7.2            4.7           \n",
       "            [,5]           [,6]           [,7]        \n",
       "Frequency   5 At least 50% 6 At least 75% 7 All income\n",
       "Italy       5.5            3.4            1.9         \n",
       "Switzerland 3.4            2.5            1.6         "
      ]
     },
     "metadata": {},
     "output_type": "display_data"
    }
   ],
   "source": [
    "CompareITCHSeek<-rbind(FrequencyList,Seeking(\"Italy\"),Seeking(\"Switzerland\"))\n",
    "rownames(CompareITCHSeek)<-c(\"Frequency\",\"Italy\",\"Switzerland\")\n",
    "print(\"Seeking Crowdwork\")\n",
    "CompareITCHSeek\n",
    "\n",
    "CompareITCHFind<-rbind(FrequencyList,Finding(\"Italy\"),Finding(\"Switzerland\"))\n",
    "rownames(CompareITCHFind)<-c(\"Frequency\",\"Italy\",\"Switzerland\")\n",
    "print(\"Finding Crowdwork\")\n",
    "CompareITCHFind\n",
    "\n",
    "\n",
    "CompareITCHInc<-rbind(IncomeList,Income(\"Italy\"),Income(\"Switzerland\"))\n",
    "rownames(CompareITCHInc)<-c(\"Frequency\",\"Italy\",\"Switzerland\")\n",
    "print(\"Income from Crowdwork\")\n",
    "CompareITCHInc\n"
   ]
  },
  {
   "cell_type": "markdown",
   "metadata": {},
   "source": [
    "The data is, in fact quite similar between the two countries when looking at seeking crowdwork.\n",
    "\n",
    "In terms of how often they actually find work, however, Italians are somewhat more likely to find such work more often than the Swiss we surveyed. However, it is interesting to note that they were still not wildly different from each other. \n",
    "\n",
    "In terms of proportions of earings, we again see that the Italian sample is somewhat more likely to earn a larger proportion of their income from platform economy labour more than their swiss  counterparts.\n",
    "Again, however, it is important to note that these are still in the same sort of ballpark, though.\n",
    "\n",
    "#### What about the German Speakers?\n",
    "\n",
    "However, it could be that the issue that exists in the Italian translation also exists in the German translation that the Swiss sample had the option of responding to. Luckily, the survey was also performed in Austria and Germany "
   ]
  },
  {
   "cell_type": "code",
   "execution_count": 108,
   "metadata": {},
   "outputs": [
    {
     "name": "stdout",
     "output_type": "stream",
     "text": [
      "[1] \"Seeking Crowdwork\"\n"
     ]
    },
    {
     "data": {
      "text/html": [
       "<table>\n",
       "<tbody>\n",
       "\t<tr><th scope=row>Frequency</th><td> 1 Not at all       </td><td>2 At least Yearly   </td><td>3 At least 6-monthly</td><td>4 At least Monthly  </td><td>5 At least Weekly   </td><td>6 At least Daily    </td></tr>\n",
       "\t<tr><th scope=row>Italy</th><td>71.1                </td><td>28.9                </td><td>26.1                </td><td>19.6                </td><td>14.6                </td><td>5.1                 </td></tr>\n",
       "\t<tr><th scope=row>Switzerland</th><td>72.9                </td><td>27.1                </td><td>23.7                </td><td>16.3                </td><td>10.9                </td><td>3                   </td></tr>\n",
       "\t<tr><th scope=row>Austria</th><td>69.6                </td><td>30.4                </td><td>26.4                </td><td>17.7                </td><td>11.5                </td><td>2.7                 </td></tr>\n",
       "\t<tr><th scope=row>Germany</th><td>82.1                </td><td>17.9                </td><td>15.7                </td><td>10                  </td><td>5.9                 </td><td>0.8                 </td></tr>\n",
       "</tbody>\n",
       "</table>\n"
      ],
      "text/latex": [
       "\\begin{tabular}{r|llllll}\n",
       "\tFrequency &  1 Not at all        & 2 At least Yearly    & 3 At least 6-monthly & 4 At least Monthly   & 5 At least Weekly    & 6 At least Daily    \\\\\n",
       "\tItaly & 71.1                 & 28.9                 & 26.1                 & 19.6                 & 14.6                 & 5.1                 \\\\\n",
       "\tSwitzerland & 72.9                 & 27.1                 & 23.7                 & 16.3                 & 10.9                 & 3                   \\\\\n",
       "\tAustria & 69.6                 & 30.4                 & 26.4                 & 17.7                 & 11.5                 & 2.7                 \\\\\n",
       "\tGermany & 82.1                 & 17.9                 & 15.7                 & 10                   & 5.9                  & 0.8                 \\\\\n",
       "\\end{tabular}\n"
      ],
      "text/markdown": [
       "\n",
       "| Frequency |  1 Not at all        | 2 At least Yearly    | 3 At least 6-monthly | 4 At least Monthly   | 5 At least Weekly    | 6 At least Daily     | \n",
       "| Italy | 71.1                 | 28.9                 | 26.1                 | 19.6                 | 14.6                 | 5.1                  | \n",
       "| Switzerland | 72.9                 | 27.1                 | 23.7                 | 16.3                 | 10.9                 | 3                    | \n",
       "| Austria | 69.6                 | 30.4                 | 26.4                 | 17.7                 | 11.5                 | 2.7                  | \n",
       "| Germany | 82.1                 | 17.9                 | 15.7                 | 10                   | 5.9                  | 0.8                  | \n",
       "\n",
       "\n"
      ],
      "text/plain": [
       "            [,1]          [,2]              [,3]                \n",
       "Frequency    1 Not at all 2 At least Yearly 3 At least 6-monthly\n",
       "Italy       71.1          28.9              26.1                \n",
       "Switzerland 72.9          27.1              23.7                \n",
       "Austria     69.6          30.4              26.4                \n",
       "Germany     82.1          17.9              15.7                \n",
       "            [,4]               [,5]              [,6]            \n",
       "Frequency   4 At least Monthly 5 At least Weekly 6 At least Daily\n",
       "Italy       19.6               14.6              5.1             \n",
       "Switzerland 16.3               10.9              3               \n",
       "Austria     17.7               11.5              2.7             \n",
       "Germany     10                 5.9               0.8             "
      ]
     },
     "metadata": {},
     "output_type": "display_data"
    },
    {
     "name": "stdout",
     "output_type": "stream",
     "text": [
      "[1] \"Finding Crowdwork\"\n"
     ]
    },
    {
     "data": {
      "text/html": [
       "<table>\n",
       "<tbody>\n",
       "\t<tr><th scope=row>Frequency</th><td> 1 Not at all       </td><td>2 At least Yearly   </td><td>3 At least 6-monthly</td><td>4 At least Monthly  </td><td>5 At least Weekly   </td><td>6 At least Daily    </td></tr>\n",
       "\t<tr><th scope=row>Italy</th><td>78.4                </td><td>21.6                </td><td>19.2                </td><td>13.6                </td><td>10.3                </td><td>3                   </td></tr>\n",
       "\t<tr><th scope=row>Switzerland</th><td>83.7                </td><td>16.3                </td><td>14.4                </td><td>9                   </td><td>6.4                 </td><td>1.8                 </td></tr>\n",
       "\t<tr><th scope=row>Austria</th><td>82.3                </td><td>17.7                </td><td>15.3                </td><td>8.9                 </td><td>5.1                 </td><td>1.2                 </td></tr>\n",
       "\t<tr><th scope=row>Germany</th><td>88                  </td><td>12                  </td><td>10.2                </td><td>6.3                 </td><td>4.4                 </td><td>0.9                 </td></tr>\n",
       "</tbody>\n",
       "</table>\n"
      ],
      "text/latex": [
       "\\begin{tabular}{r|llllll}\n",
       "\tFrequency &  1 Not at all        & 2 At least Yearly    & 3 At least 6-monthly & 4 At least Monthly   & 5 At least Weekly    & 6 At least Daily    \\\\\n",
       "\tItaly & 78.4                 & 21.6                 & 19.2                 & 13.6                 & 10.3                 & 3                   \\\\\n",
       "\tSwitzerland & 83.7                 & 16.3                 & 14.4                 & 9                    & 6.4                  & 1.8                 \\\\\n",
       "\tAustria & 82.3                 & 17.7                 & 15.3                 & 8.9                  & 5.1                  & 1.2                 \\\\\n",
       "\tGermany & 88                   & 12                   & 10.2                 & 6.3                  & 4.4                  & 0.9                 \\\\\n",
       "\\end{tabular}\n"
      ],
      "text/markdown": [
       "\n",
       "| Frequency |  1 Not at all        | 2 At least Yearly    | 3 At least 6-monthly | 4 At least Monthly   | 5 At least Weekly    | 6 At least Daily     | \n",
       "| Italy | 78.4                 | 21.6                 | 19.2                 | 13.6                 | 10.3                 | 3                    | \n",
       "| Switzerland | 83.7                 | 16.3                 | 14.4                 | 9                    | 6.4                  | 1.8                  | \n",
       "| Austria | 82.3                 | 17.7                 | 15.3                 | 8.9                  | 5.1                  | 1.2                  | \n",
       "| Germany | 88                   | 12                   | 10.2                 | 6.3                  | 4.4                  | 0.9                  | \n",
       "\n",
       "\n"
      ],
      "text/plain": [
       "            [,1]          [,2]              [,3]                \n",
       "Frequency    1 Not at all 2 At least Yearly 3 At least 6-monthly\n",
       "Italy       78.4          21.6              19.2                \n",
       "Switzerland 83.7          16.3              14.4                \n",
       "Austria     82.3          17.7              15.3                \n",
       "Germany     88            12                10.2                \n",
       "            [,4]               [,5]              [,6]            \n",
       "Frequency   4 At least Monthly 5 At least Weekly 6 At least Daily\n",
       "Italy       13.6               10.3              3               \n",
       "Switzerland 9                  6.4               1.8             \n",
       "Austria     8.9                5.1               1.2             \n",
       "Germany     6.3                4.4               0.9             "
      ]
     },
     "metadata": {},
     "output_type": "display_data"
    },
    {
     "name": "stdout",
     "output_type": "stream",
     "text": [
      "[1] \"Income from Crowdwork\"\n"
     ]
    },
    {
     "data": {
      "text/html": [
       "<table>\n",
       "<tbody>\n",
       "\t<tr><th scope=row>Frequency</th><td>1 No Income   </td><td>2 Any Income  </td><td>3 At least 10%</td><td>4 At least 25%</td><td>5 At least 50%</td><td>6 At least 75%</td><td>7 All income  </td></tr>\n",
       "\t<tr><th scope=row>Italy</th><td>82.4          </td><td>17.6          </td><td>11.2          </td><td>7.8           </td><td>5.5           </td><td>3.4           </td><td>1.9           </td></tr>\n",
       "\t<tr><th scope=row>Switzerland</th><td>86            </td><td>14            </td><td>7.2           </td><td>4.7           </td><td>3.4           </td><td>2.5           </td><td>1.6           </td></tr>\n",
       "\t<tr><th scope=row>Austria</th><td>84.2          </td><td>15.8          </td><td>6.9           </td><td>4.4           </td><td>2.4           </td><td>1.5           </td><td>0.6           </td></tr>\n",
       "\t<tr><th scope=row>Germany</th><td>88.7          </td><td>11.3          </td><td>6.5           </td><td>4.4           </td><td>2.9           </td><td>1.2           </td><td>0.4           </td></tr>\n",
       "</tbody>\n",
       "</table>\n"
      ],
      "text/latex": [
       "\\begin{tabular}{r|lllllll}\n",
       "\tFrequency & 1 No Income      & 2 Any Income     & 3 At least 10\\% & 4 At least 25\\% & 5 At least 50\\% & 6 At least 75\\% & 7 All income    \\\\\n",
       "\tItaly & 82.4           & 17.6           & 11.2           & 7.8            & 5.5            & 3.4            & 1.9           \\\\\n",
       "\tSwitzerland & 86             & 14             & 7.2            & 4.7            & 3.4            & 2.5            & 1.6           \\\\\n",
       "\tAustria & 84.2           & 15.8           & 6.9            & 4.4            & 2.4            & 1.5            & 0.6           \\\\\n",
       "\tGermany & 88.7           & 11.3           & 6.5            & 4.4            & 2.9            & 1.2            & 0.4           \\\\\n",
       "\\end{tabular}\n"
      ],
      "text/markdown": [
       "\n",
       "| Frequency | 1 No Income    | 2 Any Income   | 3 At least 10% | 4 At least 25% | 5 At least 50% | 6 At least 75% | 7 All income   | \n",
       "| Italy | 82.4           | 17.6           | 11.2           | 7.8            | 5.5            | 3.4            | 1.9            | \n",
       "| Switzerland | 86             | 14             | 7.2            | 4.7            | 3.4            | 2.5            | 1.6            | \n",
       "| Austria | 84.2           | 15.8           | 6.9            | 4.4            | 2.4            | 1.5            | 0.6            | \n",
       "| Germany | 88.7           | 11.3           | 6.5            | 4.4            | 2.9            | 1.2            | 0.4            | \n",
       "\n",
       "\n"
      ],
      "text/plain": [
       "            [,1]        [,2]         [,3]           [,4]          \n",
       "Frequency   1 No Income 2 Any Income 3 At least 10% 4 At least 25%\n",
       "Italy       82.4        17.6         11.2           7.8           \n",
       "Switzerland 86          14           7.2            4.7           \n",
       "Austria     84.2        15.8         6.9            4.4           \n",
       "Germany     88.7        11.3         6.5            4.4           \n",
       "            [,5]           [,6]           [,7]        \n",
       "Frequency   5 At least 50% 6 At least 75% 7 All income\n",
       "Italy       5.5            3.4            1.9         \n",
       "Switzerland 3.4            2.5            1.6         \n",
       "Austria     2.4            1.5            0.6         \n",
       "Germany     2.9            1.2            0.4         "
      ]
     },
     "metadata": {},
     "output_type": "display_data"
    }
   ],
   "source": [
    "\n",
    "CompareITCHATDESeek<-rbind(FrequencyList,Seeking(\"Italy\"),Seeking(\"Switzerland\"),Seeking(\"Austria\"),Seeking(\"Germany\"))\n",
    "rownames(CompareITCHATDESeek)<-c(\"Frequency\",\"Italy\",\"Switzerland\",\"Austria\",\"Germany\")\n",
    "print(\"Seeking Crowdwork\")\n",
    "CompareITCHATDESeek\n",
    "\n",
    "CompareITCHATDEFInd<-rbind(FrequencyList,Finding(\"Italy\"),Finding(\"Switzerland\"), Finding(\"Austria\"), Finding(\"Germany\"))\n",
    "rownames(CompareITCHATDEFInd)<-c(\"Frequency\",\"Italy\",\"Switzerland\",\"Austria\",\"Germany\")\n",
    "print(\"Finding Crowdwork\")\n",
    "CompareITCHATDEFInd\n",
    "\n",
    "CompareITCHATDEInc<-rbind(IncomeList,Income(\"Italy\"),Income(\"Switzerland\"), Income(\"Austria\"),Income(\"Germany\"))\n",
    "rownames(CompareITCHATDEInc)<-c(\"Frequency\",\"Italy\",\"Switzerland\",\"Austria\",\"Germany\")\n",
    "print(\"Income from Crowdwork\")\n",
    "CompareITCHATDEInc"
   ]
  },
  {
   "cell_type": "markdown",
   "metadata": {},
   "source": [
    "Here we see that Italy is not that different from Switzerland or Austria at all. They have comparable numbers in terms of people searching and finding crowdwork, although the Italian sample *does* have a slightly higher proportion of crowdworkers, but this difference is not one that is particularly dramatic. However, in terms of *frequency* of performing these sorts of jobs, Italy's numbers are still quite high. However, it would be difficult to notch these differences down to language issues, as you would then expect these 4 countries to be more similar than they are. \n",
    "\n",
    "### Sampling Bias\n",
    "\n",
    "One criticism that can be levelled against these numbers is, of course, that it is an **online-only** sample answering questions regarding their interactions with  **online platforms**. One could then reasonably make the case that this is a function of the relative internet penetration of the countries. Below is data on the relative internet penetration in **all** the countries in the survey.\n"
   ]
  },
  {
   "cell_type": "code",
   "execution_count": 109,
   "metadata": {},
   "outputs": [
    {
     "data": {
      "text/html": [
       "<table>\n",
       "<thead><tr><th scope=col>Country</th><th scope=col>Internet Use</th></tr></thead>\n",
       "<tbody>\n",
       "\t<tr><td>Italy      </td><td>0.69       </td></tr>\n",
       "\t<tr><td>Switzerland</td><td>0.90       </td></tr>\n",
       "\t<tr><td>Austria    </td><td>0.84       </td></tr>\n",
       "\t<tr><td>Germany    </td><td>0.90       </td></tr>\n",
       "\t<tr><td>UK         </td><td>0.95       </td></tr>\n",
       "\t<tr><td>Sweden     </td><td>0.93       </td></tr>\n",
       "\t<tr><td>Netherlands</td><td>0.93       </td></tr>\n",
       "</tbody>\n",
       "</table>\n"
      ],
      "text/latex": [
       "\\begin{tabular}{r|ll}\n",
       " Country & Internet Use\\\\\n",
       "\\hline\n",
       "\t Italy       & 0.69       \\\\\n",
       "\t Switzerland & 0.90       \\\\\n",
       "\t Austria     & 0.84       \\\\\n",
       "\t Germany     & 0.90       \\\\\n",
       "\t UK          & 0.95       \\\\\n",
       "\t Sweden      & 0.93       \\\\\n",
       "\t Netherlands & 0.93       \\\\\n",
       "\\end{tabular}\n"
      ],
      "text/markdown": [
       "\n",
       "Country | Internet Use | \n",
       "|---|---|---|---|---|---|---|\n",
       "| Italy       | 0.69        | \n",
       "| Switzerland | 0.90        | \n",
       "| Austria     | 0.84        | \n",
       "| Germany     | 0.90        | \n",
       "| UK          | 0.95        | \n",
       "| Sweden      | 0.93        | \n",
       "| Netherlands | 0.93        | \n",
       "\n",
       "\n"
      ],
      "text/plain": [
       "  Country     Internet Use\n",
       "1 Italy       0.69        \n",
       "2 Switzerland 0.90        \n",
       "3 Austria     0.84        \n",
       "4 Germany     0.90        \n",
       "5 UK          0.95        \n",
       "6 Sweden      0.93        \n",
       "7 Netherlands 0.93        "
      ]
     },
     "metadata": {},
     "output_type": "display_data"
    }
   ],
   "source": [
    "InternetUseTable <- data.frame(c(\"Italy\",\"Switzerland\",\"Austria\",\"Germany\",\"UK\",\"Sweden\",\"Netherlands\"),c(.69,.90,.84,.90,.95,.93,.93))\n",
    "colnames(InternetUseTable) <- c(\"Country\", \"Internet Use\")\n",
    "InternetUseTable"
   ]
  },
  {
   "cell_type": "markdown",
   "metadata": {},
   "source": [
    "This table suggests that there are noticeable differences between the 7 countries. If the differences between the country can, to some extent be explained by differences in the relative size of the internet-using portion of the opulation in these countries, this suggests that there may be an inherent sampling bias in using an online panel, that the bias-reducing procedures of these samples cannot mitigate. Now, do be aware that this approach is not completely accurate, as the different demographic segments, making up the online panels, would have slightly different rates of internet use, but this is a start.\n",
    "\n",
    "## Crowdwork by Country - Controlling for Internet Use"
   ]
  },
  {
   "cell_type": "code",
   "execution_count": 110,
   "metadata": {},
   "outputs": [],
   "source": [
    "#CompareNLUKSEDESeek<-rbind(FrequencyList,Seeking(\"Netherlands\"),Seeking(\"UK\"),Seeking(\"Sweden\"),Seeking(\"Germany\"))\n",
    "#rownames(CompareNLUKSEDESeek)<-c(\"Frequency\",\"Netherlands\",\"UK\",\"Sweden\",\"Germany\")\n",
    "#print(\"Seeking Crowdwork\")\n",
    "#CompareNLUKSEDESeek\n",
    "\n",
    "\n",
    "\n",
    "\n",
    "#CompareNLUKSEDEFind<-rbind(FrequencyList,Finding(\"Netherlands\"),Finding(\"UK\"),Finding(\"Sweden\"),Finding(\"Germany\"))\n",
    "#rownames(CompareNLUKSEDEFind)<-c(\"Frequency\",\"Netherlands\",\"UK\",\"Sweden\",\"Germany\")\n",
    "#print(\"Finding Crowdwork\")\n",
    "#CompareNLUKSEDEFind"
   ]
  },
  {
   "cell_type": "code",
   "execution_count": 111,
   "metadata": {
    "scrolled": true
   },
   "outputs": [
    {
     "name": "stdout",
     "output_type": "stream",
     "text": [
      "[1] \"Seeking Crowdwork\"\n"
     ]
    },
    {
     "data": {
      "text/html": [
       "<table>\n",
       "<tbody>\n",
       "\t<tr><th scope=row>Frequency</th><td>2 At least Yearly   </td><td>3 At least 6-monthly</td><td>4 At least Monthly  </td><td>5 At least Weekly   </td><td>6 At least Daily    </td></tr>\n",
       "\t<tr><th scope=row>Italy</th><td>28.9                </td><td>26.1                </td><td>19.6                </td><td>14.6                </td><td>5.1                 </td></tr>\n",
       "\t<tr><th scope=row>Switzerland</th><td>27.1                </td><td>23.7                </td><td>16.3                </td><td>10.9                </td><td>3                   </td></tr>\n",
       "\t<tr><th scope=row>Austria</th><td>30.4                </td><td>26.4                </td><td>17.7                </td><td>11.5                </td><td>2.7                 </td></tr>\n",
       "\t<tr><th scope=row>Germany</th><td>17.9                </td><td>15.7                </td><td>10                  </td><td>5.9                 </td><td>0.8                 </td></tr>\n",
       "\t<tr><th scope=row>UK</th><td>16.9                </td><td>15.5                </td><td>10.2                </td><td>6.8                 </td><td>2.3                 </td></tr>\n",
       "\t<tr><th scope=row>Sweden</th><td>18                  </td><td>16.2                </td><td>12                  </td><td>7.5                 </td><td>2.4                 </td></tr>\n",
       "\t<tr><th scope=row>Netherland</th><td>12.1                </td><td>10.1                </td><td>6.5                 </td><td>4.5                 </td><td>0.8                 </td></tr>\n",
       "</tbody>\n",
       "</table>\n"
      ],
      "text/latex": [
       "\\begin{tabular}{r|lllll}\n",
       "\tFrequency & 2 At least Yearly    & 3 At least 6-monthly & 4 At least Monthly   & 5 At least Weekly    & 6 At least Daily    \\\\\n",
       "\tItaly & 28.9                 & 26.1                 & 19.6                 & 14.6                 & 5.1                 \\\\\n",
       "\tSwitzerland & 27.1                 & 23.7                 & 16.3                 & 10.9                 & 3                   \\\\\n",
       "\tAustria & 30.4                 & 26.4                 & 17.7                 & 11.5                 & 2.7                 \\\\\n",
       "\tGermany & 17.9                 & 15.7                 & 10                   & 5.9                  & 0.8                 \\\\\n",
       "\tUK & 16.9                 & 15.5                 & 10.2                 & 6.8                  & 2.3                 \\\\\n",
       "\tSweden & 18                   & 16.2                 & 12                   & 7.5                  & 2.4                 \\\\\n",
       "\tNetherland & 12.1                 & 10.1                 & 6.5                  & 4.5                  & 0.8                 \\\\\n",
       "\\end{tabular}\n"
      ],
      "text/markdown": [
       "\n",
       "| Frequency | 2 At least Yearly    | 3 At least 6-monthly | 4 At least Monthly   | 5 At least Weekly    | 6 At least Daily     | \n",
       "| Italy | 28.9                 | 26.1                 | 19.6                 | 14.6                 | 5.1                  | \n",
       "| Switzerland | 27.1                 | 23.7                 | 16.3                 | 10.9                 | 3                    | \n",
       "| Austria | 30.4                 | 26.4                 | 17.7                 | 11.5                 | 2.7                  | \n",
       "| Germany | 17.9                 | 15.7                 | 10                   | 5.9                  | 0.8                  | \n",
       "| UK | 16.9                 | 15.5                 | 10.2                 | 6.8                  | 2.3                  | \n",
       "| Sweden | 18                   | 16.2                 | 12                   | 7.5                  | 2.4                  | \n",
       "| Netherland | 12.1                 | 10.1                 | 6.5                  | 4.5                  | 0.8                  | \n",
       "\n",
       "\n"
      ],
      "text/plain": [
       "            [,1]              [,2]                 [,3]              \n",
       "Frequency   2 At least Yearly 3 At least 6-monthly 4 At least Monthly\n",
       "Italy       28.9              26.1                 19.6              \n",
       "Switzerland 27.1              23.7                 16.3              \n",
       "Austria     30.4              26.4                 17.7              \n",
       "Germany     17.9              15.7                 10                \n",
       "UK          16.9              15.5                 10.2              \n",
       "Sweden      18                16.2                 12                \n",
       "Netherland  12.1              10.1                 6.5               \n",
       "            [,4]              [,5]            \n",
       "Frequency   5 At least Weekly 6 At least Daily\n",
       "Italy       14.6              5.1             \n",
       "Switzerland 10.9              3               \n",
       "Austria     11.5              2.7             \n",
       "Germany     5.9               0.8             \n",
       "UK          6.8               2.3             \n",
       "Sweden      7.5               2.4             \n",
       "Netherland  4.5               0.8             "
      ]
     },
     "metadata": {},
     "output_type": "display_data"
    },
    {
     "name": "stdout",
     "output_type": "stream",
     "text": [
      "[1] \"Seeking Crowdwork controlled by Internet Usage\"\n"
     ]
    },
    {
     "data": {
      "text/html": [
       "<table>\n",
       "<tbody>\n",
       "\t<tr><th scope=row>FrequencyList</th><td>2 At least Yearly   </td><td>3 At least 6-monthly</td><td>4 At least Monthly  </td><td>5 At least Weekly   </td><td>6 At least Daily    </td></tr>\n",
       "\t<tr><th scope=row></th><td>19.9                </td><td>18                  </td><td>13.5                </td><td>10.1                </td><td>3.5                 </td></tr>\n",
       "\t<tr><th scope=row></th><td>24.4                </td><td>21.3                </td><td>14.7                </td><td>9.9                 </td><td>2.7                 </td></tr>\n",
       "\t<tr><th scope=row></th><td>25.8                </td><td>22.4                </td><td>15.1                </td><td>9.8                 </td><td>2.3                 </td></tr>\n",
       "\t<tr><th scope=row></th><td>16.1                </td><td>14.1                </td><td>9                   </td><td>5.3                 </td><td>0.7                 </td></tr>\n",
       "\t<tr><th scope=row></th><td>16                  </td><td>14.8                </td><td>9.7                 </td><td>6.5                 </td><td>2.2                 </td></tr>\n",
       "\t<tr><th scope=row></th><td>16.8                </td><td>15                  </td><td>11.2                </td><td>7                   </td><td>2.2                 </td></tr>\n",
       "\t<tr><th scope=row></th><td>11.3                </td><td>9.4                 </td><td>6.1                 </td><td>4.2                 </td><td>0.7                 </td></tr>\n",
       "</tbody>\n",
       "</table>\n"
      ],
      "text/latex": [
       "\\begin{tabular}{r|lllll}\n",
       "\tFrequencyList & 2 At least Yearly    & 3 At least 6-monthly & 4 At least Monthly   & 5 At least Weekly    & 6 At least Daily    \\\\\n",
       "\t & 19.9                 & 18                   & 13.5                 & 10.1                 & 3.5                 \\\\\n",
       "\t & 24.4                 & 21.3                 & 14.7                 & 9.9                  & 2.7                 \\\\\n",
       "\t & 25.8                 & 22.4                 & 15.1                 & 9.8                  & 2.3                 \\\\\n",
       "\t & 16.1                 & 14.1                 & 9                    & 5.3                  & 0.7                 \\\\\n",
       "\t & 16                   & 14.8                 & 9.7                  & 6.5                  & 2.2                 \\\\\n",
       "\t & 16.8                 & 15                   & 11.2                 & 7                    & 2.2                 \\\\\n",
       "\t & 11.3                 & 9.4                  & 6.1                  & 4.2                  & 0.7                 \\\\\n",
       "\\end{tabular}\n"
      ],
      "text/markdown": [
       "\n",
       "| FrequencyList | 2 At least Yearly    | 3 At least 6-monthly | 4 At least Monthly   | 5 At least Weekly    | 6 At least Daily     | \n",
       "|  | 19.9                 | 18                   | 13.5                 | 10.1                 | 3.5                  | \n",
       "|  | 24.4                 | 21.3                 | 14.7                 | 9.9                  | 2.7                  | \n",
       "|  | 25.8                 | 22.4                 | 15.1                 | 9.8                  | 2.3                  | \n",
       "|  | 16.1                 | 14.1                 | 9                    | 5.3                  | 0.7                  | \n",
       "|  | 16                   | 14.8                 | 9.7                  | 6.5                  | 2.2                  | \n",
       "|  | 16.8                 | 15                   | 11.2                 | 7                    | 2.2                  | \n",
       "|  | 11.3                 | 9.4                  | 6.1                  | 4.2                  | 0.7                  | \n",
       "\n",
       "\n"
      ],
      "text/plain": [
       "              [,1]              [,2]                 [,3]              \n",
       "FrequencyList 2 At least Yearly 3 At least 6-monthly 4 At least Monthly\n",
       "              19.9              18                   13.5              \n",
       "              24.4              21.3                 14.7              \n",
       "              25.8              22.4                 15.1              \n",
       "              16.1              14.1                 9                 \n",
       "              16                14.8                 9.7               \n",
       "              16.8              15                   11.2              \n",
       "              11.3              9.4                  6.1               \n",
       "              [,4]              [,5]            \n",
       "FrequencyList 5 At least Weekly 6 At least Daily\n",
       "              10.1              3.5             \n",
       "              9.9               2.7             \n",
       "              9.8               2.3             \n",
       "              5.3               0.7             \n",
       "              6.5               2.2             \n",
       "              7                 2.2             \n",
       "              4.2               0.7             "
      ]
     },
     "metadata": {},
     "output_type": "display_data"
    },
    {
     "name": "stdout",
     "output_type": "stream",
     "text": [
      "[1] \"Finding Crowdwork\"\n"
     ]
    },
    {
     "data": {
      "text/html": [
       "<table>\n",
       "<tbody>\n",
       "\t<tr><th scope=row>Frequency</th><td>2 At least Yearly   </td><td>3 At least 6-monthly</td><td>4 At least Monthly  </td><td>5 At least Weekly   </td><td>6 At least Daily    </td></tr>\n",
       "\t<tr><th scope=row>Italy</th><td>21.6                </td><td>19.2                </td><td>13.6                </td><td>10.3                </td><td>3                   </td></tr>\n",
       "\t<tr><th scope=row>Switzerland</th><td>16.3                </td><td>14.4                </td><td>9                   </td><td>6.4                 </td><td>1.8                 </td></tr>\n",
       "\t<tr><th scope=row>Austria</th><td>17.7                </td><td>15.3                </td><td>8.9                 </td><td>5.1                 </td><td>1.2                 </td></tr>\n",
       "\t<tr><th scope=row>Germany</th><td>12                  </td><td>10.2                </td><td>6.3                 </td><td>4.4                 </td><td>0.9                 </td></tr>\n",
       "\t<tr><th scope=row>UK</th><td>7.6                 </td><td>6.5                 </td><td>4.2                 </td><td>2.7                 </td><td>0.6                 </td></tr>\n",
       "\t<tr><th scope=row>Sweden</th><td>7.6                 </td><td>6.8                 </td><td>3.9                 </td><td>2.4                 </td><td>0.5                 </td></tr>\n",
       "\t<tr><th scope=row>Netherland</th><td>9                   </td><td>7.9                 </td><td>4.7                 </td><td>2.9                 </td><td>0.4                 </td></tr>\n",
       "</tbody>\n",
       "</table>\n"
      ],
      "text/latex": [
       "\\begin{tabular}{r|lllll}\n",
       "\tFrequency & 2 At least Yearly    & 3 At least 6-monthly & 4 At least Monthly   & 5 At least Weekly    & 6 At least Daily    \\\\\n",
       "\tItaly & 21.6                 & 19.2                 & 13.6                 & 10.3                 & 3                   \\\\\n",
       "\tSwitzerland & 16.3                 & 14.4                 & 9                    & 6.4                  & 1.8                 \\\\\n",
       "\tAustria & 17.7                 & 15.3                 & 8.9                  & 5.1                  & 1.2                 \\\\\n",
       "\tGermany & 12                   & 10.2                 & 6.3                  & 4.4                  & 0.9                 \\\\\n",
       "\tUK & 7.6                  & 6.5                  & 4.2                  & 2.7                  & 0.6                 \\\\\n",
       "\tSweden & 7.6                  & 6.8                  & 3.9                  & 2.4                  & 0.5                 \\\\\n",
       "\tNetherland & 9                    & 7.9                  & 4.7                  & 2.9                  & 0.4                 \\\\\n",
       "\\end{tabular}\n"
      ],
      "text/markdown": [
       "\n",
       "| Frequency | 2 At least Yearly    | 3 At least 6-monthly | 4 At least Monthly   | 5 At least Weekly    | 6 At least Daily     | \n",
       "| Italy | 21.6                 | 19.2                 | 13.6                 | 10.3                 | 3                    | \n",
       "| Switzerland | 16.3                 | 14.4                 | 9                    | 6.4                  | 1.8                  | \n",
       "| Austria | 17.7                 | 15.3                 | 8.9                  | 5.1                  | 1.2                  | \n",
       "| Germany | 12                   | 10.2                 | 6.3                  | 4.4                  | 0.9                  | \n",
       "| UK | 7.6                  | 6.5                  | 4.2                  | 2.7                  | 0.6                  | \n",
       "| Sweden | 7.6                  | 6.8                  | 3.9                  | 2.4                  | 0.5                  | \n",
       "| Netherland | 9                    | 7.9                  | 4.7                  | 2.9                  | 0.4                  | \n",
       "\n",
       "\n"
      ],
      "text/plain": [
       "            [,1]              [,2]                 [,3]              \n",
       "Frequency   2 At least Yearly 3 At least 6-monthly 4 At least Monthly\n",
       "Italy       21.6              19.2                 13.6              \n",
       "Switzerland 16.3              14.4                 9                 \n",
       "Austria     17.7              15.3                 8.9               \n",
       "Germany     12                10.2                 6.3               \n",
       "UK          7.6               6.5                  4.2               \n",
       "Sweden      7.6               6.8                  3.9               \n",
       "Netherland  9                 7.9                  4.7               \n",
       "            [,4]              [,5]            \n",
       "Frequency   5 At least Weekly 6 At least Daily\n",
       "Italy       10.3              3               \n",
       "Switzerland 6.4               1.8             \n",
       "Austria     5.1               1.2             \n",
       "Germany     4.4               0.9             \n",
       "UK          2.7               0.6             \n",
       "Sweden      2.4               0.5             \n",
       "Netherland  2.9               0.4             "
      ]
     },
     "metadata": {},
     "output_type": "display_data"
    },
    {
     "name": "stdout",
     "output_type": "stream",
     "text": [
      "[1] \"Finding Crowdwork controlled by Internet Usage\"\n"
     ]
    },
    {
     "data": {
      "text/html": [
       "<table>\n",
       "<tbody>\n",
       "\t<tr><th scope=row>Frequency</th><td>2 At least Yearly   </td><td>3 At least 6-monthly</td><td>4 At least Monthly  </td><td>5 At least Weekly   </td><td>6 At least Daily    </td></tr>\n",
       "\t<tr><th scope=row>Italy</th><td>14.9                </td><td>13.3                </td><td>9.4                 </td><td>7.1                 </td><td>2.1                 </td></tr>\n",
       "\t<tr><th scope=row>Switzerland</th><td>14.7                </td><td>13                  </td><td>8.1                 </td><td>5.8                 </td><td>1.6                 </td></tr>\n",
       "\t<tr><th scope=row>Austria</th><td>15.1                </td><td>13                  </td><td>7.6                 </td><td>4.4                 </td><td>1                   </td></tr>\n",
       "\t<tr><th scope=row>Germany</th><td>10.8                </td><td>9.2                 </td><td>5.7                 </td><td>3.9                 </td><td>0.8                 </td></tr>\n",
       "\t<tr><th scope=row>UK</th><td>7.2                 </td><td>6.2                 </td><td>4                   </td><td>2.5                 </td><td>0.6                 </td></tr>\n",
       "\t<tr><th scope=row>Sweden</th><td>7.1                 </td><td>6.3                 </td><td>3.6                 </td><td>2.2                 </td><td>0.4                 </td></tr>\n",
       "\t<tr><th scope=row>Netherland</th><td>8.4                 </td><td>7.3                 </td><td>4.3                 </td><td>2.7                 </td><td>0.4                 </td></tr>\n",
       "</tbody>\n",
       "</table>\n"
      ],
      "text/latex": [
       "\\begin{tabular}{r|lllll}\n",
       "\tFrequency & 2 At least Yearly    & 3 At least 6-monthly & 4 At least Monthly   & 5 At least Weekly    & 6 At least Daily    \\\\\n",
       "\tItaly & 14.9                 & 13.3                 & 9.4                  & 7.1                  & 2.1                 \\\\\n",
       "\tSwitzerland & 14.7                 & 13                   & 8.1                  & 5.8                  & 1.6                 \\\\\n",
       "\tAustria & 15.1                 & 13                   & 7.6                  & 4.4                  & 1                   \\\\\n",
       "\tGermany & 10.8                 & 9.2                  & 5.7                  & 3.9                  & 0.8                 \\\\\n",
       "\tUK & 7.2                  & 6.2                  & 4                    & 2.5                  & 0.6                 \\\\\n",
       "\tSweden & 7.1                  & 6.3                  & 3.6                  & 2.2                  & 0.4                 \\\\\n",
       "\tNetherland & 8.4                  & 7.3                  & 4.3                  & 2.7                  & 0.4                 \\\\\n",
       "\\end{tabular}\n"
      ],
      "text/markdown": [
       "\n",
       "| Frequency | 2 At least Yearly    | 3 At least 6-monthly | 4 At least Monthly   | 5 At least Weekly    | 6 At least Daily     | \n",
       "| Italy | 14.9                 | 13.3                 | 9.4                  | 7.1                  | 2.1                  | \n",
       "| Switzerland | 14.7                 | 13                   | 8.1                  | 5.8                  | 1.6                  | \n",
       "| Austria | 15.1                 | 13                   | 7.6                  | 4.4                  | 1                    | \n",
       "| Germany | 10.8                 | 9.2                  | 5.7                  | 3.9                  | 0.8                  | \n",
       "| UK | 7.2                  | 6.2                  | 4                    | 2.5                  | 0.6                  | \n",
       "| Sweden | 7.1                  | 6.3                  | 3.6                  | 2.2                  | 0.4                  | \n",
       "| Netherland | 8.4                  | 7.3                  | 4.3                  | 2.7                  | 0.4                  | \n",
       "\n",
       "\n"
      ],
      "text/plain": [
       "            [,1]              [,2]                 [,3]              \n",
       "Frequency   2 At least Yearly 3 At least 6-monthly 4 At least Monthly\n",
       "Italy       14.9              13.3                 9.4               \n",
       "Switzerland 14.7              13                   8.1               \n",
       "Austria     15.1              13                   7.6               \n",
       "Germany     10.8              9.2                  5.7               \n",
       "UK          7.2               6.2                  4                 \n",
       "Sweden      7.1               6.3                  3.6               \n",
       "Netherland  8.4               7.3                  4.3               \n",
       "            [,4]              [,5]            \n",
       "Frequency   5 At least Weekly 6 At least Daily\n",
       "Italy       7.1               2.1             \n",
       "Switzerland 5.8               1.6             \n",
       "Austria     4.4               1               \n",
       "Germany     3.9               0.8             \n",
       "UK          2.5               0.6             \n",
       "Sweden      2.2               0.4             \n",
       "Netherland  2.7               0.4             "
      ]
     },
     "metadata": {},
     "output_type": "display_data"
    }
   ],
   "source": [
    "CompareAll <- rbind(FrequencyList,Seeking(\"Italy\"),\n",
    "                   Seeking(\"Switzerland\"),\n",
    "                   Seeking(\"Austria\"),\n",
    "                   Seeking(\"Germany\"),\n",
    "                   Seeking(\"UK\"),\n",
    "                    Seeking(\"Sweden\"),\n",
    "                    Seeking(\"Netherlands\"))\n",
    "rownames(CompareAll) <- c(\"Frequency\",\"Italy\",\"Switzerland\",\"Austria\",\"Germany\",\"UK\",\"Sweden\",\"Netherland\")\n",
    "\n",
    "CompareAllInternet <- rbind(FrequencyList,Seeking(\"Italy\",.69),\n",
    "                   Seeking(\"Switzerland\",.90),\n",
    "                   Seeking(\"Austria\",.85),\n",
    "                   Seeking(\"Germany\",.90),\n",
    "                   Seeking(\"UK\",.95),\n",
    "                    Seeking(\"Sweden\",.93),\n",
    "                    Seeking(\"Netherlands\",.93))\n",
    "rownames(CompareAll) <- c(\"Frequency\",\"Italy\",\"Switzerland\",\"Austria\",\"Germany\",\"UK\",\"Sweden\",\"Netherland\")\n",
    "CompareAllFind <- rbind(FrequencyList, Finding(\"Italy\"),\n",
    "                       Finding(\"Switzerland\"),\n",
    "                   Finding(\"Austria\"),\n",
    "                   Finding(\"Germany\"),\n",
    "                   Finding(\"UK\"),\n",
    "                    Finding(\"Sweden\"),\n",
    "                    Finding(\"Netherlands\"))\n",
    "rownames(CompareAllFind) <- c(\"Frequency\",\"Italy\",\"Switzerland\",\"Austria\",\"Germany\",\"UK\",\"Sweden\",\"Netherland\")\n",
    "\n",
    "CompareAllFindInternet <- rbind(FrequencyList, Finding(\"Italy\",.69),\n",
    "                       Finding(\"Switzerland\",.90),\n",
    "                   Finding(\"Austria\",.85),\n",
    "                   Finding(\"Germany\",.90),\n",
    "                   Finding(\"UK\",.95),\n",
    "                    Finding(\"Sweden\",.93),\n",
    "                    Finding(\"Netherlands\",.93))\n",
    "rownames(CompareAllFindInternet) <- c(\"Frequency\",\"Italy\",\"Switzerland\",\"Austria\",\"Germany\",\"UK\",\"Sweden\",\"Netherland\")\n",
    "\n",
    "print(\"Seeking Crowdwork\")\n",
    "CompareAll[,-1]\n",
    "\n",
    "print(\"Seeking Crowdwork controlled by Internet Usage\")\n",
    "CompareAllInternet[,-1]\n",
    "                        \n",
    "print(\"Finding Crowdwork\")                                       \n",
    "CompareAllFind[,-1]\n",
    "\n",
    "print(\"Finding Crowdwork controlled by Internet Usage\")   \n",
    "CompareAllFindInternet[,-1]"
   ]
  },
  {
   "cell_type": "code",
   "execution_count": 120,
   "metadata": {},
   "outputs": [],
   "source": [
    "TestFigure <-data.frame(CompareAllFind[-1,c(2)],stringsAsFactors = F)\n",
    "colnames(TestFigure )<- c(\"Yearly\")\n",
    "\n",
    "TestFigure$Country <- rownames(TestFigure)\n",
    "TestFigure$Internet_Controlled <- CompareAllFindInternet[-1,c(2)]\n",
    "\n",
    "TestFigure <- melt(TestFigure, id.vars=c(\"Country\"))\n",
    "#TestFigure <- melt(TestFigure,id.vars=\"Country\")\n",
    "colnames(TestFigure) <- c(\"Country\",\"Control\",\"Percentage_Yearly\")\n",
    "\n",
    "TestFigure$Percentage_Yearly <- as.numeric(TestFigure$Percentage_Yearly)\n",
    "\n"
   ]
  },
  {
   "cell_type": "code",
   "execution_count": 122,
   "metadata": {},
   "outputs": [
    {
     "data": {},
     "metadata": {},
     "output_type": "display_data"
    },
    {
     "data": {
      "image/png": "[encoded data removed]",
      "text/plain": [
       "plot without title"
      ]
     },
     "metadata": {},
     "output_type": "display_data"
    }
   ],
   "source": [
    "ggplot(data = TestFigure,aes(y=Percentage_Yearly,x=Country,fill=Control))+\n",
    "geom_bar(stat='identity',position=position_dodge(.9))+\n",
    "ggtitle(label = \"Yearly Crowdwork\")"
   ]
  },
  {
   "cell_type": "code",
   "execution_count": 127,
   "metadata": {},
   "outputs": [
    {
     "data": {},
     "metadata": {},
     "output_type": "display_data"
    },
    {
     "data": {
      "image/png": "[encoded data removed]",
      "text/plain": [
       "plot without title"
      ]
     },
     "metadata": {},
     "output_type": "display_data"
    }
   ],
   "source": [
    "TestFigure <-data.frame(CompareAllFind[-1,c(4)],stringsAsFactors = F)\n",
    "colnames(TestFigure )<- c(\"Monthly\")\n",
    "#TestFigure\n",
    "TestFigure$Country <- rownames(TestFigure)\n",
    "TestFigure$Internet_Controlled <- CompareAllFindInternet[-1,c(4)]\n",
    "\n",
    "TestFigure <- melt(TestFigure, id.vars=c(\"Country\"))\n",
    "#TestFigure <- melt(TestFigure,id.vars=\"Country\")\n",
    "colnames(TestFigure) <- c(\"Country\",\"Control\",\"Percentage_Monthly\")\n",
    "\n",
    "TestFigure$Percentage_Monthly <- as.numeric(TestFigure$Percentage_Monthly)\n",
    "\n",
    "ggplot(data = TestFigure,aes(y=Percentage_Monthly,x=Country,fill=Control))+\n",
    "geom_bar(stat='identity',position=position_dodge(.9))+\n",
    "ggtitle(label = \"Monthly Crowdwork\")"
   ]
  },
  {
   "cell_type": "markdown",
   "metadata": {},
   "source": [
    "This suggests that some of the differences between Italy and the other countries in the study, in particular *Switzerland* can be explained as a function of the differences in internet access between this countries. "
   ]
  }
 ],
 "metadata": {
  "kernelspec": {
   "display_name": "R.35",
   "language": "R",
   "name": "ir"
  },
  "language_info": {
   "codemirror_mode": "r",
   "file_extension": ".r",
   "mimetype": "text/x-r-source",
   "name": "R",
   "pygments_lexer": "r",
   "version": "3.5.1"
  },
  "widgets": {
   "application/vnd.jupyter.widget-state+json": {
    "state": {},
    "version_major": 2,
    "version_minor": 0
   }
  }
 },
 "nbformat": 4,
 "nbformat_minor": 2
}
